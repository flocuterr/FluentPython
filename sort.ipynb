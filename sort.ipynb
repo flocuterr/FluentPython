{
 "cells": [
  {
   "cell_type": "markdown",
   "id": "c6bf6e84",
   "metadata": {},
   "source": [
    "`list.sort()`---> sorts a list in-place. returns None to remind us that it changes the target object, and doesn't make a copy.\n",
    "\n",
    "the build-in function `sorted` creates a new list and returns it. any iterable object can be the argument.\n",
    "\n",
    "Both `list.sort` and `sorted` takes two atguments:\n",
    "- reverse\n",
    "- key"
   ]
  },
  {
   "cell_type": "code",
   "execution_count": 4,
   "id": "c741cd74",
   "metadata": {},
   "outputs": [
    {
     "name": "stdout",
     "output_type": "stream",
     "text": [
      "['a', 'e', 'l', 'p', 'p']\n"
     ]
    }
   ],
   "source": [
    "t = (2,1)\n",
    "print(sorted('apple'))"
   ]
  },
  {
   "cell_type": "code",
   "execution_count": null,
   "id": "90feada0",
   "metadata": {},
   "outputs": [
    {
     "name": "stdout",
     "output_type": "stream",
     "text": [
      "['apple', 'banana', 'grape', 'raspberry']\n",
      "None\n"
     ]
    },
    {
     "data": {
      "text/plain": [
       "['apple', 'banana', 'grape', 'raspberry']"
      ]
     },
     "execution_count": 9,
     "metadata": {},
     "output_type": "execute_result"
    }
   ],
   "source": [
    "fruit =['grape', 'raspberry', 'apple', 'banana']\n",
    "print(sorted(fruit))\n",
    "print(fruit.sort())\n",
    "fruit"
   ]
  },
  {
   "cell_type": "markdown",
   "id": "63216d79",
   "metadata": {},
   "source": [
    "### bisect"
   ]
  },
  {
   "cell_type": "code",
   "execution_count": 52,
   "id": "0a5dd011",
   "metadata": {},
   "outputs": [
    {
     "name": "stdout",
     "output_type": "stream",
     "text": [
      "['d:\\\\Anaconda\\\\envs\\\\PythonStudy\\\\Lib\\\\site-packages\\\\ipykernel_launcher.py', '--f=c:\\\\Users\\\\cuter\\\\AppData\\\\Roaming\\\\jupyter\\\\runtime\\\\kernel-v3eced1ee617bda772b69edf0f5fdcb912ca4a41c5.json']\n",
      "DEMO:  bisect_right\n",
      "haystack ->  1  4  5  6  8 12 15 20 21 23 23 26 29 30\n",
      "31 @ 14      |  |  |  |  |  |  |  |  |  |  |  |  |  |31\n",
      "30 @ 14      |  |  |  |  |  |  |  |  |  |  |  |  |  |30\n",
      "29 @ 13      |  |  |  |  |  |  |  |  |  |  |  |  |29\n",
      "23 @ 11      |  |  |  |  |  |  |  |  |  |  |23\n",
      "22 @  9      |  |  |  |  |  |  |  |  |22\n",
      "10 @  5      |  |  |  |  |10\n",
      " 8 @  5      |  |  |  |  |8\n",
      " 5 @  3      |  |  |5\n",
      " 2 @  1      |2\n",
      " 1 @  1      |1\n",
      " 0 @  0    0\n"
     ]
    }
   ],
   "source": [
    "import bisect, sys\n",
    "\n",
    "HAYSTACK = [1, 4,5,6,8,12,15,20,21,23,23,26,29,30]\n",
    "NEEDLES = [0,1,2,5,8,10,22,23,29,30,31]\n",
    "\n",
    "\n",
    "def demo(bisect_fn):\n",
    "    for needle in reversed(NEEDLES):\n",
    "        position = bisect_fn(HAYSTACK, needle)\n",
    "        offset = position * '  |'\n",
    "        print(f'{needle:2d} @ {position:2d}    {offset}{needle:2<d}')\n",
    "\n",
    "if sys.argv[-1] == 'left':\n",
    "    bisect_fn = bisect.bisect_left\n",
    "else:\n",
    "    bisect_fn = bisect.bisect\n",
    "print(sys.argv)\n",
    "print('DEMO: ',bisect_fn.__name__)\n",
    "# print('haystack ->', ' '.join('%2d' % n for n in HAYSTACK))\n",
    "# print(f'haystack -> {' '.join(f\"{n:2d}\" for n in HAYSTACK)}')\n",
    "print(f'haystack -> {' '.join(f\"{n:2d}\" for n in HAYSTACK)}')\n",
    "\n",
    "\n",
    "demo(bisect_fn)"
   ]
  },
  {
   "cell_type": "code",
   "execution_count": 63,
   "id": "a355a288",
   "metadata": {},
   "outputs": [
    {
     "name": "stdout",
     "output_type": "stream",
     "text": [
      "<class 'int'>\n",
      "<class 'str'>\n",
      "<class 'str'>\n",
      "<class 'str'>\n",
      "<class 'str'>\n",
      "<class 'str'>\n",
      "<class 'str'>\n",
      "<class 'str'>\n",
      "<class 'str'>\n",
      "<class 'str'>\n",
      "<class 'str'>\n",
      "<class 'str'>\n",
      "<class 'str'>\n",
      "<class 'str'>\n",
      "<class 'str'>\n"
     ]
    }
   ],
   "source": [
    "print(type(HAYSTACK[1]))\n",
    "g = (f\"{n:2d}\" for n in HAYSTACK)\n",
    "for i in g:\n",
    "    print(type(i))"
   ]
  },
  {
   "cell_type": "markdown",
   "id": "4ff72ebd",
   "metadata": {},
   "source": [
    "`join`的拼接方法"
   ]
  },
  {
   "cell_type": "code",
   "execution_count": 74,
   "id": "7d2ad652",
   "metadata": {},
   "outputs": [
    {
     "name": "stdout",
     "output_type": "stream",
     "text": [
      "['d:\\\\Anaconda\\\\envs\\\\PythonStudy\\\\Lib\\\\site-packages\\\\ipykernel_launcher.py', '--f=c:\\\\Users\\\\cuter\\\\AppData\\\\Roaming\\\\jupyter\\\\runtime\\\\kernel-v3eced1ee617bda772b69edf0f5fdcb912ca4a41c5.json']\n",
      "DEMO:  bisect_right\n",
      "haystack ->  1  4  5  6  8 12 15 20 21 23 23 26 29 30\n",
      "31 @  7      |  |  |  |  |  |  |31\n",
      "30 @  7      |  |  |  |  |  |  |30\n",
      "29 @  7      |  |  |  |  |  |  |29\n",
      "23 @  7      |  |  |  |  |  |  |23\n",
      "22 @  7      |  |  |  |  |  |  |22\n",
      "10 @  5      |  |  |  |  |10\n",
      " 8 @  5      |  |  |  |  |8\n",
      " 5 @  3      |  |  |5\n",
      " 2 @  1      |2\n",
      " 1 @  1      |1\n",
      " 0 @  1      |0\n"
     ]
    }
   ],
   "source": [
    "import bisect, sys\n",
    "\n",
    "HAYSTACK = [1, 4,5,6,8,12,15,20,21,23,23,26,29,30]\n",
    "NEEDLES = [0,1,2,5,8,10,22,23,29,30,31]\n",
    "\n",
    "\n",
    "def demo(bisect_fn):\n",
    "    for needle in reversed(NEEDLES):\n",
    "        position = bisect_fn(HAYSTACK, needle,lo=1,hi=int(len(HAYSTACK)*0.5))\n",
    "        offset = position * '  |'\n",
    "        print(f'{needle:2d} @ {position:2d}    {offset}{needle:2<d}')\n",
    "\n",
    "if sys.argv[-1] == 'left':\n",
    "    bisect_fn = bisect.bisect_left\n",
    "else:\n",
    "    bisect_fn = bisect.bisect\n",
    "print(sys.argv)\n",
    "print('DEMO: ',bisect_fn.__name__)\n",
    "# print('haystack ->', ' '.join('%2d' % n for n in HAYSTACK))\n",
    "print('haystack ->', ' '.join([str(x).rjust(2) for x in HAYSTACK]))\n",
    "demo(bisect_fn)"
   ]
  },
  {
   "cell_type": "code",
   "execution_count": 75,
   "id": "16f27d42",
   "metadata": {},
   "outputs": [
    {
     "name": "stdout",
     "output_type": "stream",
     "text": [
      "1.2.3\n"
     ]
    }
   ],
   "source": [
    "s = ['1','2','3']\n",
    "print('.'.join(s))"
   ]
  },
  {
   "cell_type": "code",
   "execution_count": 80,
   "id": "fa2b9e95",
   "metadata": {},
   "outputs": [
    {
     "name": "stdout",
     "output_type": "stream",
     "text": [
      "['F', 'A', 'C', 'C', 'B', 'A', 'A']\n"
     ]
    }
   ],
   "source": [
    "def grade(score:int, breakpoints=[60,70,80,90], grades = 'FDCBA'):\n",
    "    i = bisect.bisect(breakpoints,score)\n",
    "    return grades[i]\n",
    "\n",
    "result=[grade(x) for x in [33,99,77,79,89,90,100]]\n",
    "print(result)"
   ]
  },
  {
   "cell_type": "markdown",
   "id": "7673a22a",
   "metadata": {},
   "source": [
    "### Inserting with bisect.insort"
   ]
  },
  {
   "cell_type": "code",
   "execution_count": 86,
   "id": "70695d6b",
   "metadata": {},
   "outputs": [
    {
     "name": "stdout",
     "output_type": "stream",
     "text": [
      "10 -> [10]\n",
      " 0 -> [0, 10]\n",
      " 6 -> [0, 6, 10]\n",
      " 8 -> [0, 6, 8, 10]\n",
      " 7 -> [0, 6, 7, 8, 10]\n",
      " 2 -> [0, 2, 6, 7, 8, 10]\n",
      "10 -> [0, 2, 6, 7, 8, 10, 10]\n"
     ]
    }
   ],
   "source": [
    "import random, bisect\n",
    "\n",
    "SIZE = 7\n",
    "\n",
    "random.seed(1729)\n",
    "\n",
    "my_list = []\n",
    "for i in range(SIZE):\n",
    "    new_item = random.randrange(SIZE*2)\n",
    "    bisect.insort(my_list,new_item)\n",
    "    print(f'{new_item:2d} -> {my_list}')"
   ]
  },
  {
   "cell_type": "markdown",
   "id": "1ba9a53e",
   "metadata": {},
   "source": [
    "### 列表不是最优解的情况\n",
    "\n",
    "对于大量浮点数的存储，数组更好，因为它背后不是float对象，而是字节表述。\n",
    "\n",
    "若代码中包含操作使用频率高，集合会更合适，其针对检查元素做了优化，但其是无序的\n",
    "\n",
    "对于数字列表，用数组更有效，不仅包含所有可变序列的操作，还可以快速加载和保存数据。"
   ]
  },
  {
   "cell_type": "markdown",
   "id": "45491ec8",
   "metadata": {},
   "source": [
    "Python 数组跟 C 语言数组一样精简。创建数组需要一个类型码,这个类  型码用来表示在底层的 C 语言应该存放怎样的数据类型。比如 `b` 类型码  代表的是有符号的字符`(signed char)`,因此 \n",
    "`array('b')` 创建出的 数组就只能存放一个字节大小的整数,范围从 -128 到 127,这样在序列 很大的时候,我们能节省很多空间。而且 Python 不会允许你在数组里存 放除指定类型之外的数据"
   ]
  },
  {
   "cell_type": "code",
   "execution_count": 3,
   "id": "bf9922cb",
   "metadata": {},
   "outputs": [
    {
     "data": {
      "text/plain": [
       "0.30337110883835783"
      ]
     },
     "execution_count": 3,
     "metadata": {},
     "output_type": "execute_result"
    }
   ],
   "source": [
    "from array import array\n",
    "from random import randrange,random\n",
    "floats = array('d',(random() for _ in range(10**7)))\n",
    "floats[-1]"
   ]
  },
  {
   "cell_type": "code",
   "execution_count": 4,
   "id": "3018ccea",
   "metadata": {},
   "outputs": [
    {
     "data": {
      "text/plain": [
       "0.4471032537954984"
      ]
     },
     "execution_count": 4,
     "metadata": {},
     "output_type": "execute_result"
    }
   ],
   "source": [
    "fp = open('floats.txt','wb')\n",
    "floats.tofile(fp)\n",
    "fp.close()\n",
    "floats2 = array('d')\n",
    "fp = open('floats.bin','rb')\n",
    "floats2.fromfile(fp, 10**7)\n",
    "fp.close()\n",
    "floats2[-1]"
   ]
  },
  {
   "cell_type": "markdown",
   "id": "291dbb04",
   "metadata": {},
   "source": [
    "### memoryview"
   ]
  },
  {
   "cell_type": "code",
   "execution_count": 14,
   "id": "240e609f",
   "metadata": {},
   "outputs": [
    {
     "data": {
      "text/plain": [
       "<memory at 0x000001B3F0429300>"
      ]
     },
     "execution_count": 14,
     "metadata": {},
     "output_type": "execute_result"
    }
   ],
   "source": [
    "number = array('h', [-2,-1,0,1,2])\n",
    "memv = memoryview(number)\n",
    "memv"
   ]
  },
  {
   "cell_type": "code",
   "execution_count": 16,
   "id": "7e95282e",
   "metadata": {},
   "outputs": [
    {
     "data": {
      "text/plain": [
       "[254, 255, 255, 255, 0, 0, 1, 0, 2, 0]"
      ]
     },
     "execution_count": 16,
     "metadata": {},
     "output_type": "execute_result"
    }
   ],
   "source": [
    "memv_oct = memv.cast('B')\n",
    "memv_oct.tolist()"
   ]
  },
  {
   "cell_type": "code",
   "execution_count": 19,
   "id": "701d315e",
   "metadata": {},
   "outputs": [
    {
     "data": {
      "text/plain": [
       "[254, 255, 255, 255, 0, 4, 1, 0, 2, 0]"
      ]
     },
     "execution_count": 19,
     "metadata": {},
     "output_type": "execute_result"
    }
   ],
   "source": [
    "memv_oct[5] = 4\n",
    "memv_oct.tolist()"
   ]
  },
  {
   "cell_type": "code",
   "execution_count": 20,
   "id": "c5b181e3",
   "metadata": {},
   "outputs": [
    {
     "data": {
      "text/plain": [
       "array('h', [-2, -1, 1024, 1, 2])"
      ]
     },
     "execution_count": 20,
     "metadata": {},
     "output_type": "execute_result"
    }
   ],
   "source": [
    "number"
   ]
  },
  {
   "cell_type": "code",
   "execution_count": null,
   "id": "d7f244be",
   "metadata": {},
   "outputs": [],
   "source": []
  }
 ],
 "metadata": {
  "kernelspec": {
   "display_name": "PythonStudy",
   "language": "python",
   "name": "python3"
  },
  "language_info": {
   "codemirror_mode": {
    "name": "ipython",
    "version": 3
   },
   "file_extension": ".py",
   "mimetype": "text/x-python",
   "name": "python",
   "nbconvert_exporter": "python",
   "pygments_lexer": "ipython3",
   "version": "3.13.5"
  }
 },
 "nbformat": 4,
 "nbformat_minor": 5
}
