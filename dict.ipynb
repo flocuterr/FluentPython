{
 "cells": [
  {
   "cell_type": "markdown",
   "id": "db72549b",
   "metadata": {},
   "source": [
    "### dict comprehensons"
   ]
  },
  {
   "cell_type": "code",
   "execution_count": 1,
   "id": "549550e6",
   "metadata": {},
   "outputs": [
    {
     "data": {
      "text/plain": [
       "{'China': 86,\n",
       " 'India': 91,\n",
       " 'US': 1,\n",
       " 'Indonesia': 62,\n",
       " 'Brazil': 55,\n",
       " 'Pakistan': 92,\n",
       " 'Bangladesh': 880,\n",
       " 'Niseria': 234,\n",
       " 'Russia': 7,\n",
       " 'Japan': 81}"
      ]
     },
     "execution_count": 1,
     "metadata": {},
     "output_type": "execute_result"
    }
   ],
   "source": [
    "DIAL_CODES:list = [\n",
    "    (86,'China'),\n",
    "    (91, 'India'),\n",
    "    (1,  'US'),\n",
    "    (62, 'Indonesia'),\n",
    "    (55, 'Brazil'),\n",
    "    (92, 'Pakistan'),\n",
    "    (880, 'Bangladesh'),\n",
    "    (234, 'Niseria'),\n",
    "    (7, 'Russia'),\n",
    "    (81, 'Japan'),\n",
    "]\n",
    "\n",
    "country_code:dict = {country:code for code,country in DIAL_CODES}\n",
    "country_code\n"
   ]
  },
  {
   "cell_type": "code",
   "execution_count": 2,
   "id": "e35c853a",
   "metadata": {},
   "outputs": [
    {
     "data": {
      "text/plain": [
       "{86: 'CHINA',\n",
       " 91: 'INDIA',\n",
       " 92: 'PAKISTAN',\n",
       " 880: 'BANGLADESH',\n",
       " 234: 'NISERIA',\n",
       " 81: 'JAPAN'}"
      ]
     },
     "execution_count": 2,
     "metadata": {},
     "output_type": "execute_result"
    }
   ],
   "source": [
    "{code: country.upper() for code, country in DIAL_CODES if code>66}"
   ]
  },
  {
   "cell_type": "markdown",
   "id": "d9e79c2e",
   "metadata": {},
   "source": [
    "### Handling Missing Keys with setdefault.\n"
   ]
  },
  {
   "cell_type": "code",
   "execution_count": null,
   "id": "0b4dc4f1",
   "metadata": {},
   "outputs": [],
   "source": [
    "import sys, re\n",
    "\n",
    "WORD_RE = re.compile(r'\\w+')\n",
    "\n",
    "index = {}\n",
    "with open(sys.argv[1],encoding='utf-8') as fp:\n",
    "    for line_no, line in enumerate(fp, 1):\n",
    "        for match in WORD_RE.finditer(line):\n",
    "            word = match.group()\n",
    "            column_no = match.start()+1\n",
    "            location = (line_no, column_no)\n",
    "            occurrances = index.get(word, [])\n",
    "            occurrances.append(location)\n",
    "            index[word] = occurrances\n",
    "for word in sorted(index, key=str.upper):\n",
    "    print(word, index[word])"
   ]
  }
 ],
 "metadata": {
  "kernelspec": {
   "display_name": "PythonStudy",
   "language": "python",
   "name": "python3"
  },
  "language_info": {
   "codemirror_mode": {
    "name": "ipython",
    "version": 3
   },
   "file_extension": ".py",
   "mimetype": "text/x-python",
   "name": "python",
   "nbconvert_exporter": "python",
   "pygments_lexer": "ipython3",
   "version": "3.13.5"
  }
 },
 "nbformat": 4,
 "nbformat_minor": 5
}
