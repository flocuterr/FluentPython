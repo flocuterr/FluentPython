{
 "cells": [
  {
   "cell_type": "code",
   "execution_count": 1,
   "id": "3dd95888",
   "metadata": {},
   "outputs": [
    {
     "name": "stdout",
     "output_type": "stream",
     "text": [
      "['1909  Pimoroni PiBrella                     $17.50    3    $52.50', '1489  6mm Tactile Switch x20                 $4.95    2     $9.90', '1510  Panavise Jr. - PV-201                 $28.00    1    $28.00', '1601  PiTFT Mini Kit 320x240                $34.95    1    $34.95']\n",
      "    $17.50   Pimoroni PiBrella                 \n",
      "     $4.95   6mm Tactile Switch x20            \n",
      "    $28.00   Panavise Jr. - PV-201             \n",
      "    $34.95   PiTFT Mini Kit 320x240            \n"
     ]
    }
   ],
   "source": [
    "invoice = \"\"\"\n",
    "0.....6.................................40........52...55........\n",
    "1909  Pimoroni PiBrella                     $17.50    3    $52.50\n",
    "1489  6mm Tactile Switch x20                 $4.95    2     $9.90\n",
    "1510  Panavise Jr. - PV-201                 $28.00    1    $28.00\n",
    "1601  PiTFT Mini Kit 320x240                $34.95    1    $34.95\n",
    "\"\"\"\n",
    "\n",
    "SKU = slice(0,6)\n",
    "DESCRIPTION = slice(6,40)\n",
    "UNIT_PRICE = slice(40,52)\n",
    "QUANTITION = (52,55)\n",
    "ITEM_TOTAL = (55,None)\n",
    "line_items = invoice.split('\\n')[2:-1]\n",
    "print(line_items)\n",
    "for item in line_items:\n",
    "    print(item[UNIT_PRICE], item[DESCRIPTION])"
   ]
  },
  {
   "cell_type": "markdown",
   "id": "49211af4",
   "metadata": {},
   "source": [
    "### 多维切片与省略\n",
    "\n",
    "在Numpy可进行多维切片，用逗号分隔，Python默认的序列类型都是一维的。高维切片`a[m:n, k:l]`，`a[i, j]`调用的是`a.__getitem__((i, j))`\n",
    "\n",
    "`...`是实例Ellipsis的别名，Ellipsis对象是ellipsis类的单一实例，可以辅助切片。对四维数组`x[i,...]`=`x[i,:,:,:]`"
   ]
  },
  {
   "cell_type": "code",
   "execution_count": null,
   "id": "a006b01c",
   "metadata": {},
   "outputs": [
    {
     "data": {
      "text/plain": [
       "[0, 1, 100, 5, 6, 7, 8, 9]"
      ]
     },
     "execution_count": 2,
     "metadata": {},
     "output_type": "execute_result"
    }
   ],
   "source": [
    "# Assigning to slice\n",
    "# When the target of the assignment is a slice, \n",
    "# the right side must be an iterable object, even if it has just one item.\n",
    "l: list= list(range(10))\n",
    "l[2:5] = [100]\n",
    "l"
   ]
  },
  {
   "cell_type": "markdown",
   "id": "6883281b",
   "metadata": {},
   "source": [
    "### + and * with sequence"
   ]
  },
  {
   "cell_type": "code",
   "execution_count": null,
   "id": "fda70e7f",
   "metadata": {},
   "outputs": [
    {
     "data": {
      "text/plain": [
       "[1, 2, 3, 1, 2, 3, 1, 2, 3, 1, 2, 3, 1, 2, 3]"
      ]
     },
     "execution_count": 4,
     "metadata": {},
     "output_type": "execute_result"
    }
   ],
   "source": [
    "# 除非重新赋值，不然不修改原序列\n",
    "l =[1, 2, 3]\n",
    "# print(l * 5)\n",
    "# print(5 * l)\n",
    "# print(5 * 'abc')\n",
    "l * 5\n"
   ]
  },
  {
   "cell_type": "code",
   "execution_count": 6,
   "id": "80b5c065",
   "metadata": {},
   "outputs": [
    {
     "data": {
      "text/plain": [
       "[[], [], []]"
      ]
     },
     "execution_count": 6,
     "metadata": {},
     "output_type": "execute_result"
    }
   ],
   "source": [
    "my_list = [[]]*3\n",
    "my_list"
   ]
  },
  {
   "cell_type": "markdown",
   "id": "9d8db8d2",
   "metadata": {},
   "source": [
    "### Build lists of lists"
   ]
  },
  {
   "cell_type": "code",
   "execution_count": 7,
   "id": "70fe8363",
   "metadata": {},
   "outputs": [
    {
     "data": {
      "text/plain": [
       "[['_', '_', '_'], ['_', '_', '_'], ['_', '_', '_']]"
      ]
     },
     "execution_count": 7,
     "metadata": {},
     "output_type": "execute_result"
    }
   ],
   "source": [
    "board: list = [['_'] * 3 for i in range(3)]\n",
    "board"
   ]
  },
  {
   "cell_type": "code",
   "execution_count": 8,
   "id": "0e4bbb1d",
   "metadata": {},
   "outputs": [
    {
     "data": {
      "text/plain": [
       "[['_', '_', '_'], ['_', '_', 'X'], ['_', '_', '_']]"
      ]
     },
     "execution_count": 8,
     "metadata": {},
     "output_type": "execute_result"
    }
   ],
   "source": [
    "board[1][2] = 'X'\n",
    "board"
   ]
  },
  {
   "cell_type": "code",
   "execution_count": 9,
   "id": "980f4ec0",
   "metadata": {},
   "outputs": [
    {
     "data": {
      "text/plain": [
       "[['_', '_', '_'], ['_', '_', '_'], ['_', '_', '_']]"
      ]
     },
     "execution_count": 9,
     "metadata": {},
     "output_type": "execute_result"
    }
   ],
   "source": [
    "board = [['_'] * 3] * 3\n",
    "board"
   ]
  },
  {
   "cell_type": "code",
   "execution_count": 10,
   "id": "fbeca18a",
   "metadata": {},
   "outputs": [
    {
     "data": {
      "text/plain": [
       "[['_', '_', 'O'], ['_', '_', 'O'], ['_', '_', 'O']]"
      ]
     },
     "execution_count": 10,
     "metadata": {},
     "output_type": "execute_result"
    }
   ],
   "source": [
    "board[1][2] = 'O'\n",
    "board"
   ]
  },
  {
   "cell_type": "code",
   "execution_count": 15,
   "id": "67071c79",
   "metadata": {},
   "outputs": [
    {
     "data": {
      "text/plain": [
       "[[1], [1], [1]]"
      ]
     },
     "execution_count": 15,
     "metadata": {},
     "output_type": "execute_result"
    }
   ],
   "source": [
    "board = [['_']]*3\n",
    "board[0][0] = 1\n",
    "board"
   ]
  },
  {
   "cell_type": "code",
   "execution_count": null,
   "id": "85e4f3c4",
   "metadata": {},
   "outputs": [
    {
     "data": {
      "text/plain": [
       "[['_', '_', '_'], ['_', '_', '_'], ['_', '_', '_']]"
      ]
     },
     "execution_count": 16,
     "metadata": {},
     "output_type": "execute_result"
    }
   ],
   "source": [
    "# 追加同一个行对象(row)3 次到游戏板(board)\n",
    "row = ['_'] * 3\n",
    "board = []\n",
    "for _ in range(3):\n",
    "    board.append(row)\n",
    "\n",
    "board"
   ]
  },
  {
   "cell_type": "code",
   "execution_count": 17,
   "id": "36a5450c",
   "metadata": {},
   "outputs": [
    {
     "data": {
      "text/plain": [
       "[['_', '_', 'X'], ['_', '_', 'X'], ['_', '_', 'X']]"
      ]
     },
     "execution_count": 17,
     "metadata": {},
     "output_type": "execute_result"
    }
   ],
   "source": [
    "board[0][2] = 'X'\n",
    "board"
   ]
  },
  {
   "cell_type": "code",
   "execution_count": null,
   "id": "ea5dde48",
   "metadata": {},
   "outputs": [
    {
     "data": {
      "text/plain": [
       "[['_', '_', '_'], ['_', '_', '_'], ['_', '_', '_']]"
      ]
     },
     "execution_count": 18,
     "metadata": {},
     "output_type": "execute_result"
    }
   ],
   "source": [
    "# 每次迭代中都新建了一个列表,作为新的一行(row)追加到游戏板  (board)\n",
    "board = []\n",
    "for _ in range(3):\n",
    "    row =['_'] * 3\n",
    "    board.append(row)\n",
    "\n",
    "board"
   ]
  },
  {
   "cell_type": "code",
   "execution_count": 19,
   "id": "0278c54c",
   "metadata": {},
   "outputs": [
    {
     "data": {
      "text/plain": [
       "[['_', '_', 'X'], ['_', '_', '_'], ['_', '_', '_']]"
      ]
     },
     "execution_count": 19,
     "metadata": {},
     "output_type": "execute_result"
    }
   ],
   "source": [
    "board[0][2] = 'X'\n",
    "board"
   ]
  },
  {
   "cell_type": "markdown",
   "id": "3796b5d1",
   "metadata": {},
   "source": [
    "### Augmented Assignment with Sequences\n",
    "\n",
    "`+=` -> `__iadd__`. like a.extend(b)\n",
    "\n",
    "`*=` -> `__imul__`\n",
    "\n",
    "若类不存在就地加法/乘法，则返回`__add__`/`__mul_`"
   ]
  },
  {
   "cell_type": "code",
   "execution_count": 1,
   "id": "16e235fa",
   "metadata": {},
   "outputs": [
    {
     "name": "stdout",
     "output_type": "stream",
     "text": [
      "1642932594560\n",
      "[1, 2, 3, 1, 2, 3]\n",
      "1642932594560\n"
     ]
    }
   ],
   "source": [
    "l = [1,2,3]\n",
    "print(id(l))\n",
    "l *= 2\n",
    "print(l)\n",
    "print(id(l))"
   ]
  },
  {
   "cell_type": "code",
   "execution_count": 16,
   "id": "ecaa36cc",
   "metadata": {},
   "outputs": [
    {
     "name": "stdout",
     "output_type": "stream",
     "text": [
      "1642947300224\n",
      "(1, 2, 3, 1, 2, 3)\n",
      "1642946383776\n"
     ]
    }
   ],
   "source": [
    "t= (1,2,3)\n",
    "print(id(t))\n",
    "t *= 2\n",
    "print(t)\n",
    "print(id(t))"
   ]
  },
  {
   "cell_type": "code",
   "execution_count": 18,
   "id": "fd78e22d",
   "metadata": {},
   "outputs": [
    {
     "name": "stdout",
     "output_type": "stream",
     "text": [
      "(1, 2, 3, 1, 2, 3, 6)\n"
     ]
    },
    {
     "data": {
      "text/plain": [
       "(1, 2, 3, 1, 2, 3)"
      ]
     },
     "execution_count": 18,
     "metadata": {},
     "output_type": "execute_result"
    }
   ],
   "source": [
    "print(t.__add__((6,)))\n",
    "t"
   ]
  },
  {
   "cell_type": "code",
   "execution_count": 25,
   "id": "2634e939",
   "metadata": {},
   "outputs": [
    {
     "name": "stdout",
     "output_type": "stream",
     "text": [
      "1642947760064\n",
      "[30, 40]\n"
     ]
    },
    {
     "ename": "TypeError",
     "evalue": "'tuple' object does not support item assignment",
     "output_type": "error",
     "traceback": [
      "\u001b[31m---------------------------------------------------------------------------\u001b[39m",
      "\u001b[31mTypeError\u001b[39m                                 Traceback (most recent call last)",
      "\u001b[36mCell\u001b[39m\u001b[36m \u001b[39m\u001b[32mIn[25]\u001b[39m\u001b[32m, line 4\u001b[39m\n\u001b[32m      2\u001b[39m \u001b[38;5;28mprint\u001b[39m(\u001b[38;5;28mid\u001b[39m(t))\n\u001b[32m      3\u001b[39m \u001b[38;5;28mprint\u001b[39m(t[\u001b[32m2\u001b[39m])\n\u001b[32m----> \u001b[39m\u001b[32m4\u001b[39m t[\u001b[32m2\u001b[39m] += [\u001b[32m50\u001b[39m,\u001b[32m60\u001b[39m]\n",
      "\u001b[31mTypeError\u001b[39m: 'tuple' object does not support item assignment"
     ]
    }
   ],
   "source": [
    "t = (1,2,[30,40])\n",
    "print(id(t))\n",
    "print(t[2])\n",
    "t[2] += [50,60]"
   ]
  },
  {
   "cell_type": "code",
   "execution_count": null,
   "id": "1476b723",
   "metadata": {},
   "outputs": [
    {
     "name": "stdout",
     "output_type": "stream",
     "text": [
      "1642947898176\n"
     ]
    }
   ],
   "source": [
    "print(id(t))"
   ]
  },
  {
   "cell_type": "code",
   "execution_count": 26,
   "id": "5e6e9c1b",
   "metadata": {},
   "outputs": [
    {
     "ename": "NameError",
     "evalue": "name 'dis' is not defined",
     "output_type": "error",
     "traceback": [
      "\u001b[31m---------------------------------------------------------------------------\u001b[39m",
      "\u001b[31mNameError\u001b[39m                                 Traceback (most recent call last)",
      "\u001b[36mCell\u001b[39m\u001b[36m \u001b[39m\u001b[32mIn[26]\u001b[39m\u001b[32m, line 1\u001b[39m\n\u001b[32m----> \u001b[39m\u001b[32m1\u001b[39m dis.dis(\u001b[33m'\u001b[39m\u001b[33ms[a] +=b\u001b[39m\u001b[33m'\u001b[39m)\n",
      "\u001b[31mNameError\u001b[39m: name 'dis' is not defined"
     ]
    }
   ],
   "source": [
    "dis.dis('s[a] +=b')"
   ]
  }
 ],
 "metadata": {
  "kernelspec": {
   "display_name": "PythonStudy",
   "language": "python",
   "name": "python3"
  },
  "language_info": {
   "codemirror_mode": {
    "name": "ipython",
    "version": 3
   },
   "file_extension": ".py",
   "mimetype": "text/x-python",
   "name": "python",
   "nbconvert_exporter": "python",
   "pygments_lexer": "ipython3",
   "version": "3.13.5"
  }
 },
 "nbformat": 4,
 "nbformat_minor": 5
}
