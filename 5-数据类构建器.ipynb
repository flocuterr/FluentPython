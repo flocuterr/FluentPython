{
 "cells": [
  {
   "cell_type": "markdown",
   "id": "5e3a2690",
   "metadata": {},
   "source": [
    "Python 提供了几种构建简单类的方式,这些类只是字段的容器,几乎没 有额外功能。这种模式称为“数据类”(data class)"
   ]
  },
  {
   "cell_type": "code",
   "execution_count": 1,
   "id": "164753c2",
   "metadata": {},
   "outputs": [],
   "source": [
    "# class Coordinate:\n",
    "\n",
    "#     def __init__(self,lat,lon):\n",
    "#         self.lat = lat\n",
    "#         self.lon = lon"
   ]
  },
  {
   "cell_type": "markdown",
   "id": "400a4b0b",
   "metadata": {},
   "source": [
    "Coordinate类的作用是保存经纬度属性。为` __init__ `方法编写样 板代码容易让人感到枯燥,尤其是属性较多的时候。想想看,每一个属 性都要写 3 次。更糟的是,样板代码并没有给我们提供 Python 对象都 有的基本功能。"
   ]
  },
  {
   "cell_type": "code",
   "execution_count": 2,
   "id": "49857fd6",
   "metadata": {},
   "outputs": [],
   "source": [
    "# moscow =Coordinate(55.76,37.62)\n",
    "# moscow# 继承自 object 的 __repr__ 作用不大。"
   ]
  },
  {
   "cell_type": "code",
   "execution_count": 3,
   "id": "1afd1263",
   "metadata": {},
   "outputs": [],
   "source": [
    "# location = Coordinate(55.76,37.62)\n",
    "# location==moscow# == 没有意义,因为继承自 object 的 __eq__ 方法比较对象的  ID。"
   ]
  },
  {
   "cell_type": "markdown",
   "id": "534133ab",
   "metadata": {},
   "source": [
    "#### 使用 namedtuple 构建 Coordinate 类"
   ]
  },
  {
   "cell_type": "code",
   "execution_count": 4,
   "id": "07b6c904",
   "metadata": {},
   "outputs": [
    {
     "data": {
      "text/plain": [
       "True"
      ]
     },
     "execution_count": 4,
     "metadata": {},
     "output_type": "execute_result"
    }
   ],
   "source": [
    "from collections import namedtuple\n",
    "Coordinate = namedtuple('Coordinate','lat lon')\n",
    "issubclass(Coordinate,tuple)"
   ]
  },
  {
   "cell_type": "code",
   "execution_count": 5,
   "id": "7c2dc187",
   "metadata": {},
   "outputs": [
    {
     "name": "stdout",
     "output_type": "stream",
     "text": [
      "Coordinate(lat=55.76, lon=37.62)\n",
      "True\n"
     ]
    }
   ],
   "source": [
    "moscow =Coordinate(55.76,37.62)\n",
    "print(moscow)#有用的 __repr__\n",
    "location = Coordinate(55.76,37.62)\n",
    "print(moscow==location)#有意义的 __eq__"
   ]
  },
  {
   "cell_type": "markdown",
   "id": "0fb3ab50",
   "metadata": {},
   "source": [
    "#### 使用typing.NamedTuple构建Coordinate类\n",
    "\n",
    "可为每个字段添加类型注解"
   ]
  },
  {
   "cell_type": "code",
   "execution_count": 6,
   "id": "89186254",
   "metadata": {},
   "outputs": [
    {
     "name": "stderr",
     "output_type": "stream",
     "text": [
      "C:\\Users\\cuter\\AppData\\Local\\Temp\\ipykernel_19724\\1956521930.py:2: DeprecationWarning: Creating NamedTuple classes using keyword arguments is deprecated and will be disallowed in Python 3.15. Use the class-based or functional syntax instead.\n",
      "  Coordinate = typing.NamedTuple('Coordinate', lat=float, lon=float)\n"
     ]
    },
    {
     "data": {
      "text/plain": [
       "True"
      ]
     },
     "execution_count": 6,
     "metadata": {},
     "output_type": "execute_result"
    }
   ],
   "source": [
    "import typing\n",
    "Coordinate = typing.NamedTuple('Coordinate', lat=float, lon=float)\n",
    "issubclass(Coordinate,tuple)"
   ]
  },
  {
   "cell_type": "code",
   "execution_count": 7,
   "id": "4ba8eeec",
   "metadata": {},
   "outputs": [
    {
     "name": "stdout",
     "output_type": "stream",
     "text": [
      "{'lat': <class 'float'>, 'lon': <class 'float'>}\n"
     ]
    },
    {
     "data": {
      "text/plain": [
       "Coordinate(lat=55.76, lon=37.62)"
      ]
     },
     "execution_count": 7,
     "metadata": {},
     "output_type": "execute_result"
    }
   ],
   "source": [
    "print(typing.get_type_hints(Coordinate))\n",
    "moscow=Coordinate(55.76,37.62)\n",
    "moscow"
   ]
  },
  {
   "cell_type": "markdown",
   "id": "d62d0e78",
   "metadata": {},
   "source": [
    "构建带类型的具名元组,也可以通过关键字参数指定字段（要被弃用了QAQ）\n",
    "\n",
    "这种方式可读性高,而且可以通过映射指定字段及其类型,再使用  **fields_and_types 拆包。"
   ]
  },
  {
   "cell_type": "code",
   "execution_count": 8,
   "id": "9139455d",
   "metadata": {},
   "outputs": [],
   "source": [
    "from typing import NamedTuple\n",
    "class Coordinate(NamedTuple):\n",
    "    lat: float\n",
    "    lon: float\n",
    "\n",
    "    def __str__(self):\n",
    "        ns = 'N' if self.lat>=0 else 'S'\n",
    "        we = 'E' if self.lon>=0 else 'W'\n",
    "        return f'{abs(self.lat):.1f}°{ns}, {abs(self.lon):.1f}°{we}'"
   ]
  },
  {
   "cell_type": "code",
   "execution_count": 9,
   "id": "9d602403",
   "metadata": {},
   "outputs": [
    {
     "name": "stdout",
     "output_type": "stream",
     "text": [
      "{'lat': <class 'float'>, 'lon': <class 'float'>}\n",
      "55.8°N, 37.6°E\n"
     ]
    },
    {
     "data": {
      "text/plain": [
       "Coordinate(lat=55.76, lon=37.62)"
      ]
     },
     "execution_count": 9,
     "metadata": {},
     "output_type": "execute_result"
    }
   ],
   "source": [
    "print(typing.get_type_hints(Coordinate))\n",
    "moscow=Coordinate(55.76,37.62)\n",
    "print(moscow)\n",
    "moscow"
   ]
  },
  {
   "cell_type": "code",
   "execution_count": 10,
   "id": "5533bd3e",
   "metadata": {},
   "outputs": [
    {
     "data": {
      "text/plain": [
       "(55.76, 37.62)"
      ]
     },
     "execution_count": 10,
     "metadata": {},
     "output_type": "execute_result"
    }
   ],
   "source": [
    "lat,lon = moscow\n",
    "lat,lon"
   ]
  },
  {
   "cell_type": "markdown",
   "id": "8a6fa8ec",
   "metadata": {},
   "source": [
    "dataclass 装饰器读取变量注解,自动为  构建的类生成方法"
   ]
  },
  {
   "cell_type": "code",
   "execution_count": 11,
   "id": "ebf3a063",
   "metadata": {},
   "outputs": [],
   "source": [
    "from dataclasses import dataclass\n",
    "\n",
    "@dataclass(frozen=True)\n",
    "class Coordinate:\n",
    "    lat: float\n",
    "    lon: float\n",
    "\n",
    "    def __str__(self):\n",
    "        ns = 'N' if self.lat>=0 else 'S'\n",
    "        we = 'E' if self.lon>=0 else 'W'\n",
    "        return f'{abs(self.lat):.1f}°{ns}, {abs(self.lon):.1f}°{we}'"
   ]
  },
  {
   "cell_type": "markdown",
   "id": "1e988f72",
   "metadata": {},
   "source": [
    "`collections.namedtuple` 和 `typing.NamedTuple` 构建的 类是 tuple 的子类,因此实例是不可变的。`@dataclass` 默认构  建可变的类。不过,`@dataclass` 装饰器接受一个关键字参数  `frozen`。指定 `frozen=True`,初始化实例之  后,如果为字段赋值,则抛出异常。"
   ]
  },
  {
   "cell_type": "code",
   "execution_count": 12,
   "id": "575c1e3f",
   "metadata": {},
   "outputs": [
    {
     "name": "stdout",
     "output_type": "stream",
     "text": [
      "Point(x=1, y=2)\n"
     ]
    },
    {
     "ename": "AttributeError",
     "evalue": "'Point' object has no attribute '__annotations__'",
     "output_type": "error",
     "traceback": [
      "\u001b[1;31m---------------------------------------------------------------------------\u001b[0m",
      "\u001b[1;31mAttributeError\u001b[0m                            Traceback (most recent call last)",
      "Cell \u001b[1;32mIn[12], line 6\u001b[0m\n\u001b[0;32m      4\u001b[0m p \u001b[38;5;241m=\u001b[39m Point(\u001b[38;5;241m1\u001b[39m,\u001b[38;5;241m2\u001b[39m)\n\u001b[0;32m      5\u001b[0m \u001b[38;5;28mprint\u001b[39m(p)\n\u001b[1;32m----> 6\u001b[0m \u001b[38;5;28mprint\u001b[39m(p\u001b[38;5;241m.\u001b[39m\u001b[38;5;18m__annotations__\u001b[39m)\n\u001b[0;32m      7\u001b[0m p\u001b[38;5;241m.\u001b[39mx\u001b[38;5;241m=\u001b[39m\u001b[38;5;241m1\u001b[39m\n",
      "\u001b[1;31mAttributeError\u001b[0m: 'Point' object has no attribute '__annotations__'"
     ]
    }
   ],
   "source": [
    "from collections import namedtuple\n",
    "\n",
    "Point = namedtuple('Point',['x','y'])\n",
    "p = Point(1,2)\n",
    "print(p)\n",
    "print(p.__annotations__)\n",
    "p.x=1"
   ]
  },
  {
   "cell_type": "code",
   "execution_count": 13,
   "id": "72d8a458",
   "metadata": {},
   "outputs": [
    {
     "ename": "TypeError",
     "evalue": "non-default argument 'y' follows default argument 'x'",
     "output_type": "error",
     "traceback": [
      "\u001b[1;31m---------------------------------------------------------------------------\u001b[0m",
      "\u001b[1;31mTypeError\u001b[0m                                 Traceback (most recent call last)",
      "Cell \u001b[1;32mIn[13], line 3\u001b[0m\n\u001b[0;32m      1\u001b[0m \u001b[38;5;28;01mfrom\u001b[39;00m\u001b[38;5;250m \u001b[39m\u001b[38;5;21;01mdataclasses\u001b[39;00m\u001b[38;5;250m \u001b[39m\u001b[38;5;28;01mimport\u001b[39;00m dataclass\n\u001b[1;32m----> 3\u001b[0m \u001b[38;5;129m@dataclass\u001b[39m\n\u001b[0;32m      4\u001b[0m \u001b[38;5;28;01mclass\u001b[39;00m\u001b[38;5;250m \u001b[39m\u001b[38;5;21;01mPoint\u001b[39;00m:\n\u001b[0;32m      5\u001b[0m     x: \u001b[38;5;28mfloat\u001b[39m\u001b[38;5;241m=\u001b[39m\u001b[38;5;241m0\u001b[39m\n\u001b[0;32m      6\u001b[0m     y: \u001b[38;5;28mfloat\u001b[39m\n",
      "File \u001b[1;32md:\\Anaconda\\Lib\\dataclasses.py:1305\u001b[0m, in \u001b[0;36mdataclass\u001b[1;34m(cls, init, repr, eq, order, unsafe_hash, frozen, match_args, kw_only, slots, weakref_slot)\u001b[0m\n\u001b[0;32m   1302\u001b[0m     \u001b[38;5;28;01mreturn\u001b[39;00m wrap\n\u001b[0;32m   1304\u001b[0m \u001b[38;5;66;03m# We're called as @dataclass without parens.\u001b[39;00m\n\u001b[1;32m-> 1305\u001b[0m \u001b[38;5;28;01mreturn\u001b[39;00m wrap(\u001b[38;5;28mcls\u001b[39m)\n",
      "File \u001b[1;32md:\\Anaconda\\Lib\\dataclasses.py:1295\u001b[0m, in \u001b[0;36mdataclass.<locals>.wrap\u001b[1;34m(cls)\u001b[0m\n\u001b[0;32m   1294\u001b[0m \u001b[38;5;28;01mdef\u001b[39;00m\u001b[38;5;250m \u001b[39m\u001b[38;5;21mwrap\u001b[39m(\u001b[38;5;28mcls\u001b[39m):\n\u001b[1;32m-> 1295\u001b[0m     \u001b[38;5;28;01mreturn\u001b[39;00m _process_class(\u001b[38;5;28mcls\u001b[39m, init, \u001b[38;5;28mrepr\u001b[39m, eq, order, unsafe_hash,\n\u001b[0;32m   1296\u001b[0m                           frozen, match_args, kw_only, slots,\n\u001b[0;32m   1297\u001b[0m                           weakref_slot)\n",
      "File \u001b[1;32md:\\Anaconda\\Lib\\dataclasses.py:1078\u001b[0m, in \u001b[0;36m_process_class\u001b[1;34m(cls, init, repr, eq, order, unsafe_hash, frozen, match_args, kw_only, slots, weakref_slot)\u001b[0m\n\u001b[0;32m   1074\u001b[0m \u001b[38;5;28;01mif\u001b[39;00m init:\n\u001b[0;32m   1075\u001b[0m     \u001b[38;5;66;03m# Does this class have a post-init function?\u001b[39;00m\n\u001b[0;32m   1076\u001b[0m     has_post_init \u001b[38;5;241m=\u001b[39m \u001b[38;5;28mhasattr\u001b[39m(\u001b[38;5;28mcls\u001b[39m, _POST_INIT_NAME)\n\u001b[1;32m-> 1078\u001b[0m     _init_fn(all_init_fields,\n\u001b[0;32m   1079\u001b[0m              std_init_fields,\n\u001b[0;32m   1080\u001b[0m              kw_only_init_fields,\n\u001b[0;32m   1081\u001b[0m              frozen,\n\u001b[0;32m   1082\u001b[0m              has_post_init,\n\u001b[0;32m   1083\u001b[0m              \u001b[38;5;66;03m# The name to use for the \"self\"\u001b[39;00m\n\u001b[0;32m   1084\u001b[0m              \u001b[38;5;66;03m# param in __init__.  Use \"self\"\u001b[39;00m\n\u001b[0;32m   1085\u001b[0m              \u001b[38;5;66;03m# if possible.\u001b[39;00m\n\u001b[0;32m   1086\u001b[0m              \u001b[38;5;124m'\u001b[39m\u001b[38;5;124m__dataclass_self__\u001b[39m\u001b[38;5;124m'\u001b[39m \u001b[38;5;28;01mif\u001b[39;00m \u001b[38;5;124m'\u001b[39m\u001b[38;5;124mself\u001b[39m\u001b[38;5;124m'\u001b[39m \u001b[38;5;129;01min\u001b[39;00m fields\n\u001b[0;32m   1087\u001b[0m              \u001b[38;5;28;01melse\u001b[39;00m \u001b[38;5;124m'\u001b[39m\u001b[38;5;124mself\u001b[39m\u001b[38;5;124m'\u001b[39m,\n\u001b[0;32m   1088\u001b[0m              func_builder,\n\u001b[0;32m   1089\u001b[0m              slots,\n\u001b[0;32m   1090\u001b[0m              )\n\u001b[0;32m   1092\u001b[0m _set_new_attribute(\u001b[38;5;28mcls\u001b[39m, \u001b[38;5;124m'\u001b[39m\u001b[38;5;124m__replace__\u001b[39m\u001b[38;5;124m'\u001b[39m, _replace)\n\u001b[0;32m   1094\u001b[0m \u001b[38;5;66;03m# Get the fields as a list, and include only real fields.  This is\u001b[39;00m\n\u001b[0;32m   1095\u001b[0m \u001b[38;5;66;03m# used in all of the following methods.\u001b[39;00m\n",
      "File \u001b[1;32md:\\Anaconda\\Lib\\dataclasses.py:627\u001b[0m, in \u001b[0;36m_init_fn\u001b[1;34m(fields, std_fields, kw_only_fields, frozen, has_post_init, self_name, func_builder, slots)\u001b[0m\n\u001b[0;32m    625\u001b[0m             seen_default \u001b[38;5;241m=\u001b[39m f\n\u001b[0;32m    626\u001b[0m         \u001b[38;5;28;01melif\u001b[39;00m seen_default:\n\u001b[1;32m--> 627\u001b[0m             \u001b[38;5;28;01mraise\u001b[39;00m \u001b[38;5;167;01mTypeError\u001b[39;00m(\u001b[38;5;124mf\u001b[39m\u001b[38;5;124m'\u001b[39m\u001b[38;5;124mnon-default argument \u001b[39m\u001b[38;5;132;01m{\u001b[39;00mf\u001b[38;5;241m.\u001b[39mname\u001b[38;5;132;01m!r}\u001b[39;00m\u001b[38;5;124m \u001b[39m\u001b[38;5;124m'\u001b[39m\n\u001b[0;32m    628\u001b[0m                             \u001b[38;5;124mf\u001b[39m\u001b[38;5;124m'\u001b[39m\u001b[38;5;124mfollows default argument \u001b[39m\u001b[38;5;132;01m{\u001b[39;00mseen_default\u001b[38;5;241m.\u001b[39mname\u001b[38;5;132;01m!r}\u001b[39;00m\u001b[38;5;124m'\u001b[39m)\n\u001b[0;32m    630\u001b[0m \u001b[38;5;28mlocals\u001b[39m \u001b[38;5;241m=\u001b[39m {\u001b[38;5;241m*\u001b[39m\u001b[38;5;241m*\u001b[39m{\u001b[38;5;124mf\u001b[39m\u001b[38;5;124m'\u001b[39m\u001b[38;5;124m__dataclass_type_\u001b[39m\u001b[38;5;132;01m{\u001b[39;00mf\u001b[38;5;241m.\u001b[39mname\u001b[38;5;132;01m}\u001b[39;00m\u001b[38;5;124m__\u001b[39m\u001b[38;5;124m'\u001b[39m: f\u001b[38;5;241m.\u001b[39mtype \u001b[38;5;28;01mfor\u001b[39;00m f \u001b[38;5;129;01min\u001b[39;00m fields},\n\u001b[0;32m    631\u001b[0m           \u001b[38;5;241m*\u001b[39m\u001b[38;5;241m*\u001b[39m{\u001b[38;5;124m'\u001b[39m\u001b[38;5;124m__dataclass_HAS_DEFAULT_FACTORY__\u001b[39m\u001b[38;5;124m'\u001b[39m: _HAS_DEFAULT_FACTORY,\n\u001b[0;32m    632\u001b[0m              \u001b[38;5;124m'\u001b[39m\u001b[38;5;124m__dataclass_builtins_object__\u001b[39m\u001b[38;5;124m'\u001b[39m: \u001b[38;5;28mobject\u001b[39m,\n\u001b[0;32m    633\u001b[0m              }\n\u001b[0;32m    634\u001b[0m           }\n\u001b[0;32m    636\u001b[0m body_lines \u001b[38;5;241m=\u001b[39m []\n",
      "\u001b[1;31mTypeError\u001b[0m: non-default argument 'y' follows default argument 'x'"
     ]
    }
   ],
   "source": [
    "from dataclasses import dataclass\n",
    "\n",
    "@dataclass\n",
    "class Point:\n",
    "    x: float=0\n",
    "    y: float\n",
    "\n",
    "p = Point(1,2)\n",
    "p.x = 2\n",
    "p"
   ]
  },
  {
   "cell_type": "markdown",
   "id": "edb55618",
   "metadata": {},
   "source": [
    "只有 typing.NamedTuple 和 dataclass 支持常规的 class 语句句法,方便为构建的类添加方法和文档字符串。\n",
    "\n",
    "推荐使用 `inspect.get_annotations(MyClass)(Python 3.10 新增)` 或 `typing.get_type_hints(MyClass)`(Python 3.5~3.9)获 取类型信息,因为这两个函数提供了额外的服务,例如可以解析类 型提示中的向前引用"
   ]
  },
  {
   "cell_type": "code",
   "execution_count": 14,
   "id": "edb1e8c5",
   "metadata": {},
   "outputs": [
    {
     "ename": "AttributeError",
     "evalue": "'Point' object has no attribute '__annotations__'",
     "output_type": "error",
     "traceback": [
      "\u001b[1;31m---------------------------------------------------------------------------\u001b[0m",
      "\u001b[1;31mAttributeError\u001b[0m                            Traceback (most recent call last)",
      "Cell \u001b[1;32mIn[14], line 2\u001b[0m\n\u001b[0;32m      1\u001b[0m \u001b[38;5;28;01mimport\u001b[39;00m\u001b[38;5;250m \u001b[39m\u001b[38;5;21;01minspect\u001b[39;00m\u001b[38;5;241m,\u001b[39m\u001b[38;5;21;01mtyping\u001b[39;00m\n\u001b[1;32m----> 2\u001b[0m \u001b[38;5;28mprint\u001b[39m(p\u001b[38;5;241m.\u001b[39m\u001b[38;5;18m__annotations__\u001b[39m)\n\u001b[0;32m      3\u001b[0m \u001b[38;5;28mprint\u001b[39m(inspect\u001b[38;5;241m.\u001b[39mget_annotations(Point))\n\u001b[0;32m      4\u001b[0m typing\u001b[38;5;241m.\u001b[39mget_type_hints(Point)\n",
      "\u001b[1;31mAttributeError\u001b[0m: 'Point' object has no attribute '__annotations__'"
     ]
    }
   ],
   "source": [
    "import inspect,typing\n",
    "print(p.__annotations__)\n",
    "print(inspect.get_annotations(Point))\n",
    "typing.get_type_hints(Point)\n"
   ]
  },
  {
   "cell_type": "markdown",
   "id": "58aec488",
   "metadata": {},
   "source": [
    "构造字典"
   ]
  },
  {
   "cell_type": "code",
   "execution_count": 15,
   "id": "3fd38f0c",
   "metadata": {},
   "outputs": [
    {
     "data": {
      "text/plain": [
       "{'x': 1, 'y': 2}"
      ]
     },
     "execution_count": 15,
     "metadata": {},
     "output_type": "execute_result"
    }
   ],
   "source": [
    "from collections import namedtuple\n",
    "\n",
    "Point = namedtuple('Point',['x','y'],defaults=[0])# 不推荐\n",
    "p = Point(1,2)\n",
    "\n",
    "p._asdict()"
   ]
  },
  {
   "cell_type": "code",
   "execution_count": 16,
   "id": "1d2435c4",
   "metadata": {},
   "outputs": [
    {
     "data": {
      "text/plain": [
       "{'x': 1, 'y': 2}"
      ]
     },
     "execution_count": 16,
     "metadata": {},
     "output_type": "execute_result"
    }
   ],
   "source": [
    "from typing import NamedTuple\n",
    "class Point1(NamedTuple):\n",
    "    x: float \n",
    "    y: float =0\n",
    "\n",
    "p1 = Point1(1,2)\n",
    "p1._asdict()"
   ]
  },
  {
   "cell_type": "code",
   "execution_count": 17,
   "id": "a9372cac",
   "metadata": {},
   "outputs": [
    {
     "name": "stdout",
     "output_type": "stream",
     "text": [
      "{'x': 1, 'y': 2}\n"
     ]
    },
    {
     "ename": "AttributeError",
     "evalue": "'Point2' object has no attribute '_asdict'",
     "output_type": "error",
     "traceback": [
      "\u001b[1;31m---------------------------------------------------------------------------\u001b[0m",
      "\u001b[1;31mAttributeError\u001b[0m                            Traceback (most recent call last)",
      "Cell \u001b[1;32mIn[17], line 13\u001b[0m\n\u001b[0;32m      9\u001b[0m p2 \u001b[38;5;241m=\u001b[39m Point2(\u001b[38;5;241m1\u001b[39m,\u001b[38;5;241m2\u001b[39m)\n\u001b[0;32m     12\u001b[0m \u001b[38;5;28mprint\u001b[39m(dataclasses\u001b[38;5;241m.\u001b[39masdict(p2))\n\u001b[1;32m---> 13\u001b[0m \u001b[38;5;28mprint\u001b[39m(p2\u001b[38;5;241m.\u001b[39m_asdict())\n",
      "\u001b[1;31mAttributeError\u001b[0m: 'Point2' object has no attribute '_asdict'"
     ]
    }
   ],
   "source": [
    "# from dataclasses import dataclass\n",
    "import dataclasses\n",
    "\n",
    "@dataclass\n",
    "class Point2:\n",
    "    x: float\n",
    "    y: float = 0\n",
    "\n",
    "p2 = Point2(1,2)\n",
    "\n",
    "\n",
    "print(dataclasses.asdict(p2))\n",
    "print(p2._asdict())"
   ]
  },
  {
   "cell_type": "markdown",
   "id": "66131d93",
   "metadata": {},
   "source": [
    "获取字段名称和默认值"
   ]
  },
  {
   "cell_type": "code",
   "execution_count": 18,
   "id": "708dcf15",
   "metadata": {},
   "outputs": [
    {
     "name": "stdout",
     "output_type": "stream",
     "text": [
      "(Field(name='x',type=<class 'float'>,default=<dataclasses._MISSING_TYPE object at 0x0000024AC95E5BE0>,default_factory=<dataclasses._MISSING_TYPE object at 0x0000024AC95E5BE0>,init=True,repr=True,hash=None,compare=True,metadata=mappingproxy({}),kw_only=False,_field_type=_FIELD), Field(name='y',type=<class 'float'>,default=0,default_factory=<dataclasses._MISSING_TYPE object at 0x0000024AC95E5BE0>,init=True,repr=True,hash=None,compare=True,metadata=mappingproxy({}),kw_only=False,_field_type=_FIELD))\n",
      "('x', 'y')\n",
      "('x', 'y')\n",
      "['x', 'y']\n",
      "{'y': 0}\n",
      "{'y': 0}\n",
      "[{0, 'y'}]\n"
     ]
    }
   ],
   "source": [
    "print(dataclasses.fields(p2))\n",
    "print(p._fields)\n",
    "print(p1._fields)\n",
    "print([f.name for f in dataclasses.fields(p2)])\n",
    "\n",
    "print(p._field_defaults)\n",
    "print(p1._field_defaults)\n",
    "print([{f.name, f.default} for f in dataclasses.fields(p2)\n",
    "        if isinstance(f.default,(int, float))])"
   ]
  },
  {
   "cell_type": "markdown",
   "id": "45ee5e4a",
   "metadata": {},
   "source": [
    "更改之后创建新实例"
   ]
  },
  {
   "cell_type": "code",
   "execution_count": 19,
   "id": "877126c6",
   "metadata": {},
   "outputs": [
    {
     "name": "stdout",
     "output_type": "stream",
     "text": [
      "Point(x=2, y=2)\n",
      "Point1(x=2, y=2)\n",
      "Point2(x=2, y=2)\n"
     ]
    },
    {
     "data": {
      "text/plain": [
       "Point2(x=3, y=2)"
      ]
     },
     "execution_count": 19,
     "metadata": {},
     "output_type": "execute_result"
    }
   ],
   "source": [
    "mp=p._replace(x=2)\n",
    "print(mp)\n",
    "mp1=p1._replace(x=2)\n",
    "print(mp1)\n",
    "mp2=dataclasses.replace(p2,x=2)\n",
    "print(mp2)\n",
    "p2.x=3\n",
    "\n",
    "p2"
   ]
  },
  {
   "cell_type": "markdown",
   "id": "23a1bf8b",
   "metadata": {},
   "source": [
    "`collections.namedtuple` 是一个工厂函数,用于构建增强的  tuple 子类,具有字段名称、类名和提供有用信息的 `__repr__` 方  法。\n",
    "\n",
    "创建具名元组需要指定两个参数:一个类名和一个字段名称列表。后 一个参数可以是产生字符串的可迭代对象,也可以是一整个以空格分隔 的字符串。"
   ]
  },
  {
   "cell_type": "code",
   "execution_count": 20,
   "id": "dff91ab7",
   "metadata": {},
   "outputs": [
    {
     "data": {
      "text/plain": [
       "'{\"name\": \"Delhi NCR\", \"country\": \"IN\", \"population\": 21.935, \"coordinates\": [28.613889, 77.208889]}'"
      ]
     },
     "execution_count": 20,
     "metadata": {},
     "output_type": "execute_result"
    }
   ],
   "source": [
    "from collections import namedtuple\n",
    "\n",
    "City = namedtuple('City','name country population coordinates')\n",
    "tokyo = City('Tokyo', 'JP', 36.933, (35.689722, 139.691667))\n",
    "# 根据可迭代对象构建 City 实例\n",
    "Coordinate = namedtuple('Coordinate', 'lat lon')\n",
    "delhi_data = ('Delhi NCR', 'IN', 21.935, Coordinate(28.613889, 77.208889))\n",
    "delhi = City._make(delhi_data)\n",
    "delhi._asdict()\n",
    "# ._asdict() 方法可把数据序列化成 JSON 格式。\n",
    "import json\n",
    "json.dumps(delhi._asdict())"
   ]
  },
  {
   "cell_type": "markdown",
   "id": "a47d98f4",
   "metadata": {},
   "source": [
    "变量注解的意义\n",
    "\n",
    "类型提示在运行时没有作用。然而,Python 在导入时 (加载模块时)会读取类型提示,构建 `__annotations__` 字典,供  `typing.NamedTuple` 和 `@dataclass` 使用,增强类的功能。"
   ]
  },
  {
   "cell_type": "code",
   "execution_count": 21,
   "id": "fc02401e",
   "metadata": {},
   "outputs": [
    {
     "name": "stdout",
     "output_type": "stream",
     "text": [
      "{'a': <class 'int'>, 'b': <class 'float'>}\n"
     ]
    },
    {
     "ename": "AttributeError",
     "evalue": "type object 'DemoPlainClass' has no attribute 'a'",
     "output_type": "error",
     "traceback": [
      "\u001b[1;31m---------------------------------------------------------------------------\u001b[0m",
      "\u001b[1;31mAttributeError\u001b[0m                            Traceback (most recent call last)",
      "Cell \u001b[1;32mIn[21], line 8\u001b[0m\n\u001b[0;32m      5\u001b[0m     c \u001b[38;5;241m=\u001b[39m \u001b[38;5;124m'\u001b[39m\u001b[38;5;124mspam\u001b[39m\u001b[38;5;124m'\u001b[39m \u001b[38;5;66;03m# c 是普通的类属性,没有注解。\u001b[39;00m\n\u001b[0;32m      7\u001b[0m \u001b[38;5;28mprint\u001b[39m(DemoPlainClass\u001b[38;5;241m.\u001b[39m\u001b[38;5;18m__annotations__\u001b[39m)\n\u001b[1;32m----> 8\u001b[0m \u001b[38;5;28mprint\u001b[39m(DemoPlainClass\u001b[38;5;241m.\u001b[39ma)\n",
      "\u001b[1;31mAttributeError\u001b[0m: type object 'DemoPlainClass' has no attribute 'a'"
     ]
    }
   ],
   "source": [
    "class DemoPlainClass:\n",
    "    a:int # a 出现在 __annotations__ 中,但被抛弃了,因为该类没有名为  a 的属性。\n",
    "    # a 只作为注解存在,不是类属性,因为没有绑定值\n",
    "    b:float = 1.1\n",
    "    c = 'spam' # c 是普通的类属性,没有注解。\n",
    "\n",
    "print(DemoPlainClass.__annotations__)\n",
    "print(DemoPlainClass.a)\n"
   ]
  },
  {
   "cell_type": "code",
   "execution_count": 22,
   "id": "938963ec",
   "metadata": {},
   "outputs": [
    {
     "name": "stdout",
     "output_type": "stream",
     "text": [
      "{'a': <class 'int'>, 'b': <class 'float'>}\n",
      "_tuplegetter(0, 'Alias for field number 0')\n",
      "_tuplegetter(1, 'Alias for field number 1')\n",
      "spam\n"
     ]
    }
   ],
   "source": [
    "class DemoNTClass(NamedTuple):\n",
    "    a:int #a 是注解,也是实例属性\n",
    "    b:float = 1.1\n",
    "    c = 'spam' \n",
    "\n",
    "print(DemoNTClass.__annotations__)\n",
    "print(DemoNTClass.a)\n",
    "print(DemoNTClass.b)\n",
    "print(DemoNTClass.c)"
   ]
  },
  {
   "cell_type": "code",
   "execution_count": 23,
   "id": "4a9461c8",
   "metadata": {},
   "outputs": [
    {
     "name": "stdout",
     "output_type": "stream",
     "text": [
      "{'a': <class 'int'>, 'b': <class 'float'>}\n",
      "DemoDataClass(a: int, b: float = 1.1)\n"
     ]
    }
   ],
   "source": [
    "from dataclasses import dataclass\n",
    "\n",
    "@dataclass()\n",
    "class DemoDataClass:\n",
    "    a: int #是注解,也是受描述符控制的实例属性。\n",
    "    b: float =1.1# b 是注解,也是受描述符控制的实例属性,默认值为  1.1\n",
    "    c = 'spam'\n",
    "\n",
    "print(DemoDataClass.__annotations__)\n",
    "print(DemoDataClass.__doc__)\n",
    "# print(DemoDataClass.a)"
   ]
  },
  {
   "cell_type": "markdown",
   "id": "49440338",
   "metadata": {},
   "source": [
    "dataclass实例可变，还可为不存在的属性赋值"
   ]
  },
  {
   "cell_type": "code",
   "execution_count": 24,
   "id": "2573130e",
   "metadata": {},
   "outputs": [
    {
     "data": {
      "text/plain": [
       "'sectet'"
      ]
     },
     "execution_count": 24,
     "metadata": {},
     "output_type": "execute_result"
    }
   ],
   "source": [
    "dc = DemoDataClass(9)\n",
    "dc.c = 'whatever'\n",
    "dc.z = 'sectet'# 实例属性\n",
    "dataclasses.asdict(dc)\n",
    "dc.z\n",
    "\n"
   ]
  },
  {
   "cell_type": "markdown",
   "id": "4a485087",
   "metadata": {},
   "source": [
    "@dataclass关键字参数\n",
    "- `init`: 生成`__init__`\n",
    "- `repr`:生成`__repr__`\n",
    "- `eq`:生成`__eq__`\n",
    "- `order`:生成`__lt__`、`__le__`、`__gt__`、`__ge__`\n",
    "- `unsafe_hash`:生成`__hash__`\n",
    "- `frozen`:控制实例是否可变\n",
    "\n",
    "如果 `eq` 和 `frozen` 参数的值都是 `True`,那么 `@dataclass` 将生成 一个合适的 `__hash__` 方法,确保实例是可哈希的。生成的  `__hash__` 方法使用所有字段的数据,通过字段选项也不能排除。对于 `frozen=False`(默认值),@dataclass 把 `__hash__` 设为 None,覆盖从任何超类继承的 `__hash__` 方法,表 明实例不可哈希。"
   ]
  },
  {
   "cell_type": "markdown",
   "id": "69860b04",
   "metadata": {},
   "source": [
    "### 字段选项\n",
    "\n",
    "在提供类型提示的同时设定默认 值。声明的字段将作为参数传给生成的 `__init__` 方法。Python 规  定,带默认值的参数后面不能有不带默认值的参数。因此,为一个字段 声明默认值之后,余下的字段都要有默认值。\n",
    "\n",
    "类属性通常用作 实例属性的默认值,数据类也是如此。`@dataclass` 使用类型提示中的  默认值生成传给 `__init__` 方法的参数默认值。\n",
    "\n",
    "dataclasses 模块中的一个安全特性，防止了一个常见的编程陷阱：在 Python 中，默认参数值只在函数（或类）定义时计算一次，而不是每次创建实例时都重新计算。这意味着所有 Event 实例都会共享同一个列表对象"
   ]
  },
  {
   "cell_type": "code",
   "execution_count": 25,
   "id": "b66f8e22",
   "metadata": {},
   "outputs": [
    {
     "ename": "ValueError",
     "evalue": "mutable default <class 'list'> for field guests is not allowed: use default_factory",
     "output_type": "error",
     "traceback": [
      "\u001b[1;31m---------------------------------------------------------------------------\u001b[0m",
      "\u001b[1;31mValueError\u001b[0m                                Traceback (most recent call last)",
      "Cell \u001b[1;32mIn[25], line 1\u001b[0m\n\u001b[1;32m----> 1\u001b[0m \u001b[38;5;129m@dataclass\u001b[39m\n\u001b[0;32m      2\u001b[0m \u001b[38;5;28;01mclass\u001b[39;00m\u001b[38;5;250m \u001b[39m\u001b[38;5;21;01mClubMember\u001b[39;00m:\n\u001b[0;32m      3\u001b[0m     name: \u001b[38;5;28mstr\u001b[39m\n\u001b[0;32m      4\u001b[0m     guests: \u001b[38;5;28mlist\u001b[39m \u001b[38;5;241m=\u001b[39m []\n",
      "File \u001b[1;32md:\\Anaconda\\Lib\\dataclasses.py:1305\u001b[0m, in \u001b[0;36mdataclass\u001b[1;34m(cls, init, repr, eq, order, unsafe_hash, frozen, match_args, kw_only, slots, weakref_slot)\u001b[0m\n\u001b[0;32m   1302\u001b[0m     \u001b[38;5;28;01mreturn\u001b[39;00m wrap\n\u001b[0;32m   1304\u001b[0m \u001b[38;5;66;03m# We're called as @dataclass without parens.\u001b[39;00m\n\u001b[1;32m-> 1305\u001b[0m \u001b[38;5;28;01mreturn\u001b[39;00m wrap(\u001b[38;5;28mcls\u001b[39m)\n",
      "File \u001b[1;32md:\\Anaconda\\Lib\\dataclasses.py:1295\u001b[0m, in \u001b[0;36mdataclass.<locals>.wrap\u001b[1;34m(cls)\u001b[0m\n\u001b[0;32m   1294\u001b[0m \u001b[38;5;28;01mdef\u001b[39;00m\u001b[38;5;250m \u001b[39m\u001b[38;5;21mwrap\u001b[39m(\u001b[38;5;28mcls\u001b[39m):\n\u001b[1;32m-> 1295\u001b[0m     \u001b[38;5;28;01mreturn\u001b[39;00m _process_class(\u001b[38;5;28mcls\u001b[39m, init, \u001b[38;5;28mrepr\u001b[39m, eq, order, unsafe_hash,\n\u001b[0;32m   1296\u001b[0m                           frozen, match_args, kw_only, slots,\n\u001b[0;32m   1297\u001b[0m                           weakref_slot)\n",
      "File \u001b[1;32md:\\Anaconda\\Lib\\dataclasses.py:1008\u001b[0m, in \u001b[0;36m_process_class\u001b[1;34m(cls, init, repr, eq, order, unsafe_hash, frozen, match_args, kw_only, slots, weakref_slot)\u001b[0m\n\u001b[0;32m   1005\u001b[0m         kw_only \u001b[38;5;241m=\u001b[39m \u001b[38;5;28;01mTrue\u001b[39;00m\n\u001b[0;32m   1006\u001b[0m     \u001b[38;5;28;01melse\u001b[39;00m:\n\u001b[0;32m   1007\u001b[0m         \u001b[38;5;66;03m# Otherwise it's a field of some type.\u001b[39;00m\n\u001b[1;32m-> 1008\u001b[0m         cls_fields\u001b[38;5;241m.\u001b[39mappend(_get_field(\u001b[38;5;28mcls\u001b[39m, name, \u001b[38;5;28mtype\u001b[39m, kw_only))\n\u001b[0;32m   1010\u001b[0m \u001b[38;5;28;01mfor\u001b[39;00m f \u001b[38;5;129;01min\u001b[39;00m cls_fields:\n\u001b[0;32m   1011\u001b[0m     fields[f\u001b[38;5;241m.\u001b[39mname] \u001b[38;5;241m=\u001b[39m f\n",
      "File \u001b[1;32md:\\Anaconda\\Lib\\dataclasses.py:860\u001b[0m, in \u001b[0;36m_get_field\u001b[1;34m(cls, a_name, a_type, default_kw_only)\u001b[0m\n\u001b[0;32m    856\u001b[0m \u001b[38;5;66;03m# For real fields, disallow mutable defaults.  Use unhashable as a proxy\u001b[39;00m\n\u001b[0;32m    857\u001b[0m \u001b[38;5;66;03m# indicator for mutability.  Read the __hash__ attribute from the class,\u001b[39;00m\n\u001b[0;32m    858\u001b[0m \u001b[38;5;66;03m# not the instance.\u001b[39;00m\n\u001b[0;32m    859\u001b[0m \u001b[38;5;28;01mif\u001b[39;00m f\u001b[38;5;241m.\u001b[39m_field_type \u001b[38;5;129;01mis\u001b[39;00m _FIELD \u001b[38;5;129;01mand\u001b[39;00m f\u001b[38;5;241m.\u001b[39mdefault\u001b[38;5;241m.\u001b[39m\u001b[38;5;18m__class__\u001b[39m\u001b[38;5;241m.\u001b[39m\u001b[38;5;21m__hash__\u001b[39m \u001b[38;5;129;01mis\u001b[39;00m \u001b[38;5;28;01mNone\u001b[39;00m:\n\u001b[1;32m--> 860\u001b[0m     \u001b[38;5;28;01mraise\u001b[39;00m \u001b[38;5;167;01mValueError\u001b[39;00m(\u001b[38;5;124mf\u001b[39m\u001b[38;5;124m'\u001b[39m\u001b[38;5;124mmutable default \u001b[39m\u001b[38;5;132;01m{\u001b[39;00m\u001b[38;5;28mtype\u001b[39m(f\u001b[38;5;241m.\u001b[39mdefault)\u001b[38;5;132;01m}\u001b[39;00m\u001b[38;5;124m for field \u001b[39m\u001b[38;5;124m'\u001b[39m\n\u001b[0;32m    861\u001b[0m                      \u001b[38;5;124mf\u001b[39m\u001b[38;5;124m'\u001b[39m\u001b[38;5;132;01m{\u001b[39;00mf\u001b[38;5;241m.\u001b[39mname\u001b[38;5;132;01m}\u001b[39;00m\u001b[38;5;124m is not allowed: use default_factory\u001b[39m\u001b[38;5;124m'\u001b[39m)\n\u001b[0;32m    863\u001b[0m \u001b[38;5;28;01mreturn\u001b[39;00m f\n",
      "\u001b[1;31mValueError\u001b[0m: mutable default <class 'list'> for field guests is not allowed: use default_factory"
     ]
    }
   ],
   "source": [
    "@dataclass\n",
    "class ClubMember:\n",
    "    name: str\n",
    "    guests: list = []\n",
    "    "
   ]
  },
  {
   "cell_type": "markdown",
   "id": "7df71214",
   "metadata": {},
   "source": [
    "default_factory 参数的值可以是一个函数、一个类,或者其他可调  用对象,在每次创建数据类的实例时调用(不带参数),构建默认值。 这样,每个 ClubMember 实例都有自己的一个 list,而不是所有实  例共用同一个 list。"
   ]
  },
  {
   "cell_type": "code",
   "execution_count": 26,
   "id": "fb6a728e",
   "metadata": {},
   "outputs": [],
   "source": [
    "from dataclasses import dataclass, field\n",
    "\n",
    "@dataclass\n",
    "class ClubMember:\n",
    "    name: str\n",
    "    guest: list = field(default_factory=list)\n",
    "    "
   ]
  },
  {
   "cell_type": "code",
   "execution_count": 27,
   "id": "124cc523",
   "metadata": {},
   "outputs": [
    {
     "name": "stdout",
     "output_type": "stream",
     "text": [
      "applea\n",
      "apple\n",
      "['a', 'b']\n",
      "['a']\n",
      "['a']\n"
     ]
    }
   ],
   "source": [
    "class Test:\n",
    "    name: str = 'apple'\n",
    "    lis: list[str] = []\n",
    "\n",
    "fruit1 = Test()\n",
    "fruit1.name+='a'# 重新赋值，创建实例属性\n",
    "print(fruit1.name)\n",
    "fruit2=Test()\n",
    "print(fruit2.name)\n",
    "fruit2.name = 'banana'# 赋值，创建实例属性\n",
    "fruit2.name\n",
    "fruit2.lis.append('a')# 先找实例属性，由于没有，所以再找类属性，在类属性上修该\n",
    "fruit1.lis=['a','b']# 赋值，创建实例属性\n",
    "print(fruit1.lis)\n",
    "print(fruit2.lis)\n",
    "print(Test.lis)\n",
    "\n"
   ]
  },
  {
   "cell_type": "code",
   "execution_count": 28,
   "id": "d947ded5",
   "metadata": {},
   "outputs": [
    {
     "ename": "ValueError",
     "evalue": "mutable default <class 'list'> for field lis is not allowed: use default_factory",
     "output_type": "error",
     "traceback": [
      "\u001b[1;31m---------------------------------------------------------------------------\u001b[0m",
      "\u001b[1;31mValueError\u001b[0m                                Traceback (most recent call last)",
      "Cell \u001b[1;32mIn[28], line 1\u001b[0m\n\u001b[1;32m----> 1\u001b[0m \u001b[38;5;129m@dataclass\u001b[39m\n\u001b[0;32m      2\u001b[0m \u001b[38;5;28;01mclass\u001b[39;00m\u001b[38;5;250m \u001b[39m\u001b[38;5;21;01mTest\u001b[39;00m:\n\u001b[0;32m      3\u001b[0m     lis: \u001b[38;5;28mlist\u001b[39m \u001b[38;5;241m=\u001b[39m [\u001b[38;5;124m'\u001b[39m\u001b[38;5;124m1\u001b[39m\u001b[38;5;124m'\u001b[39m,\u001b[38;5;124m'\u001b[39m\u001b[38;5;124m2\u001b[39m\u001b[38;5;124m'\u001b[39m]\n",
      "File \u001b[1;32md:\\Anaconda\\Lib\\dataclasses.py:1305\u001b[0m, in \u001b[0;36mdataclass\u001b[1;34m(cls, init, repr, eq, order, unsafe_hash, frozen, match_args, kw_only, slots, weakref_slot)\u001b[0m\n\u001b[0;32m   1302\u001b[0m     \u001b[38;5;28;01mreturn\u001b[39;00m wrap\n\u001b[0;32m   1304\u001b[0m \u001b[38;5;66;03m# We're called as @dataclass without parens.\u001b[39;00m\n\u001b[1;32m-> 1305\u001b[0m \u001b[38;5;28;01mreturn\u001b[39;00m wrap(\u001b[38;5;28mcls\u001b[39m)\n",
      "File \u001b[1;32md:\\Anaconda\\Lib\\dataclasses.py:1295\u001b[0m, in \u001b[0;36mdataclass.<locals>.wrap\u001b[1;34m(cls)\u001b[0m\n\u001b[0;32m   1294\u001b[0m \u001b[38;5;28;01mdef\u001b[39;00m\u001b[38;5;250m \u001b[39m\u001b[38;5;21mwrap\u001b[39m(\u001b[38;5;28mcls\u001b[39m):\n\u001b[1;32m-> 1295\u001b[0m     \u001b[38;5;28;01mreturn\u001b[39;00m _process_class(\u001b[38;5;28mcls\u001b[39m, init, \u001b[38;5;28mrepr\u001b[39m, eq, order, unsafe_hash,\n\u001b[0;32m   1296\u001b[0m                           frozen, match_args, kw_only, slots,\n\u001b[0;32m   1297\u001b[0m                           weakref_slot)\n",
      "File \u001b[1;32md:\\Anaconda\\Lib\\dataclasses.py:1008\u001b[0m, in \u001b[0;36m_process_class\u001b[1;34m(cls, init, repr, eq, order, unsafe_hash, frozen, match_args, kw_only, slots, weakref_slot)\u001b[0m\n\u001b[0;32m   1005\u001b[0m         kw_only \u001b[38;5;241m=\u001b[39m \u001b[38;5;28;01mTrue\u001b[39;00m\n\u001b[0;32m   1006\u001b[0m     \u001b[38;5;28;01melse\u001b[39;00m:\n\u001b[0;32m   1007\u001b[0m         \u001b[38;5;66;03m# Otherwise it's a field of some type.\u001b[39;00m\n\u001b[1;32m-> 1008\u001b[0m         cls_fields\u001b[38;5;241m.\u001b[39mappend(_get_field(\u001b[38;5;28mcls\u001b[39m, name, \u001b[38;5;28mtype\u001b[39m, kw_only))\n\u001b[0;32m   1010\u001b[0m \u001b[38;5;28;01mfor\u001b[39;00m f \u001b[38;5;129;01min\u001b[39;00m cls_fields:\n\u001b[0;32m   1011\u001b[0m     fields[f\u001b[38;5;241m.\u001b[39mname] \u001b[38;5;241m=\u001b[39m f\n",
      "File \u001b[1;32md:\\Anaconda\\Lib\\dataclasses.py:860\u001b[0m, in \u001b[0;36m_get_field\u001b[1;34m(cls, a_name, a_type, default_kw_only)\u001b[0m\n\u001b[0;32m    856\u001b[0m \u001b[38;5;66;03m# For real fields, disallow mutable defaults.  Use unhashable as a proxy\u001b[39;00m\n\u001b[0;32m    857\u001b[0m \u001b[38;5;66;03m# indicator for mutability.  Read the __hash__ attribute from the class,\u001b[39;00m\n\u001b[0;32m    858\u001b[0m \u001b[38;5;66;03m# not the instance.\u001b[39;00m\n\u001b[0;32m    859\u001b[0m \u001b[38;5;28;01mif\u001b[39;00m f\u001b[38;5;241m.\u001b[39m_field_type \u001b[38;5;129;01mis\u001b[39;00m _FIELD \u001b[38;5;129;01mand\u001b[39;00m f\u001b[38;5;241m.\u001b[39mdefault\u001b[38;5;241m.\u001b[39m\u001b[38;5;18m__class__\u001b[39m\u001b[38;5;241m.\u001b[39m\u001b[38;5;21m__hash__\u001b[39m \u001b[38;5;129;01mis\u001b[39;00m \u001b[38;5;28;01mNone\u001b[39;00m:\n\u001b[1;32m--> 860\u001b[0m     \u001b[38;5;28;01mraise\u001b[39;00m \u001b[38;5;167;01mValueError\u001b[39;00m(\u001b[38;5;124mf\u001b[39m\u001b[38;5;124m'\u001b[39m\u001b[38;5;124mmutable default \u001b[39m\u001b[38;5;132;01m{\u001b[39;00m\u001b[38;5;28mtype\u001b[39m(f\u001b[38;5;241m.\u001b[39mdefault)\u001b[38;5;132;01m}\u001b[39;00m\u001b[38;5;124m for field \u001b[39m\u001b[38;5;124m'\u001b[39m\n\u001b[0;32m    861\u001b[0m                      \u001b[38;5;124mf\u001b[39m\u001b[38;5;124m'\u001b[39m\u001b[38;5;132;01m{\u001b[39;00mf\u001b[38;5;241m.\u001b[39mname\u001b[38;5;132;01m}\u001b[39;00m\u001b[38;5;124m is not allowed: use default_factory\u001b[39m\u001b[38;5;124m'\u001b[39m)\n\u001b[0;32m    863\u001b[0m \u001b[38;5;28;01mreturn\u001b[39;00m f\n",
      "\u001b[1;31mValueError\u001b[0m: mutable default <class 'list'> for field lis is not allowed: use default_factory"
     ]
    }
   ],
   "source": [
    "@dataclass\n",
    "class Test:\n",
    "    lis: list = ['1','2']"
   ]
  },
  {
   "cell_type": "code",
   "execution_count": 29,
   "id": "e8b11aa5",
   "metadata": {},
   "outputs": [
    {
     "data": {
      "text/plain": [
       "['1']"
      ]
     },
     "execution_count": 29,
     "metadata": {},
     "output_type": "execute_result"
    }
   ],
   "source": [
    "@dataclass\n",
    "class Test:\n",
    "    lis: list = field(default_factory=lambda: ['1'])\n",
    "\n",
    "t1 = Test()\n",
    "t1.lis"
   ]
  },
  {
   "cell_type": "markdown",
   "id": "7da73b94",
   "metadata": {},
   "source": [
    "field函数接受的关键字参数\n",
    "- default\n",
    "- default_factory\n",
    "- init\n",
    "- repr\n",
    "- compare\n",
    "- hash"
   ]
  },
  {
   "cell_type": "code",
   "execution_count": 30,
   "id": "356a45a6",
   "metadata": {},
   "outputs": [
    {
     "ename": "NameError",
     "evalue": "name 'geust2' is not defined",
     "output_type": "error",
     "traceback": [
      "\u001b[1;31m---------------------------------------------------------------------------\u001b[0m",
      "\u001b[1;31mNameError\u001b[0m                                 Traceback (most recent call last)",
      "Cell \u001b[1;32mIn[30], line 14\u001b[0m\n\u001b[0;32m     11\u001b[0m \u001b[38;5;66;03m# geust2 = ClubMember(name='hana')\u001b[39;00m\n\u001b[0;32m     13\u001b[0m geust1\u001b[38;5;241m.\u001b[39mname \u001b[38;5;241m=\u001b[39m \u001b[38;5;124m'\u001b[39m\u001b[38;5;124mbana\u001b[39m\u001b[38;5;124m'\u001b[39m\n\u001b[1;32m---> 14\u001b[0m geust2\u001b[38;5;241m.\u001b[39mname\n",
      "\u001b[1;31mNameError\u001b[0m: name 'geust2' is not defined"
     ]
    }
   ],
   "source": [
    "@dataclass\n",
    "class ClubMember: \n",
    "    name: str= field(default='hana',init=True)\n",
    "    guests: list = field(default_factory=list) \n",
    "    athlete: bool = field(default=False, repr=False)\n",
    "\n",
    "    # def __repr__(self):\n",
    "    #     return f'{self.name} is athlete = {self.athlete}'\n",
    "\n",
    "geust1 = ClubMember()\n",
    "# geust2 = ClubMember(name='hana')\n",
    "\n",
    "geust1.name = 'bana'\n",
    "geust2.name"
   ]
  },
  {
   "cell_type": "markdown",
   "id": "e066c258",
   "metadata": {},
   "source": [
    "@dataclass 生成的 `__init__` 方法只做一件事:把传入的参数及其  默认值(如未指定值)赋值给实例属性,变成实例字段。可是,有些时 候初始化实例要做的不只是这些。为此,可以提供一个  `__post_init__` 方法。如果存在这个方法,则 @dataclass 将在生 成的 `__init__` 方法最后调用 `__post_init__` 方法。 `__post_init__` 经常用于执行验证,以及根据其他字段计算一个字段  的值。下面举个例子说明这两种用途。\n",
    "\n",
    "在dataclass中，当你使用类型注解并赋值时，Python会将其视为实例字段而不是类字段。这意味着：\n",
    "\n",
    "- 每个实例会有自己的all_handle副本，而不是共享同一个\n",
    "- 这违背了你\"目的就是要共享\"的初衷\n",
    "- 如果你尝试通过类名访问它，可能会遇到问题\n",
    "\n",
    "若想为其指定类型，则要使用ClassVar()"
   ]
  },
  {
   "cell_type": "code",
   "execution_count": null,
   "id": "b81ee522",
   "metadata": {},
   "outputs": [],
   "source": [
    "'''\n",
    "HackerClubMember构造函数接受一个可选的handle参数\n",
    "'''\n",
    "from typing import ClassVar\n",
    "\n",
    "@dataclass\n",
    "class HackerClubMember(ClubMember):\n",
    "    all_handle: ClassVar[set[str]]= set()# 目的就是要共享\n",
    "    handle: str = ''\n",
    "\n",
    "    def __post_init__(self):\n",
    "        cls = self.__class__#获取实例所属的类\n",
    "        if self.handle == '':\n",
    "            self.handle = self.name.split()[0]\n",
    "        if self.handle in cls.all_handle:\n",
    "            msg = f'handle {self.handle} already exists.'\n",
    "            raise ValueError\n",
    "        cls.all_handle.add(self.handle)\n",
    "\n",
    "\n"
   ]
  },
  {
   "cell_type": "markdown",
   "id": "00aeb661",
   "metadata": {},
   "source": [
    "@dataclass 装饰器不关心注解中的类型,但有两种例外情况,这是其  中之一,即类型为 ClassVar 时,不为属性生成实例字段。  另外一种情况是声明“仅作初始化的变量”\n",
    "\n",
    "这是一种特殊的参数，你会在类的 `__init__ `方法中用到它来帮助设置其他字段的值，但这个参数本身不会被存储为对象的一个属性。"
   ]
  },
  {
   "cell_type": "code",
   "execution_count": 33,
   "id": "6f14079d",
   "metadata": {},
   "outputs": [
    {
     "ename": "NameError",
     "evalue": "name 'DatabaseType' is not defined",
     "output_type": "error",
     "traceback": [
      "\u001b[1;31m---------------------------------------------------------------------------\u001b[0m",
      "\u001b[1;31mNameError\u001b[0m                                 Traceback (most recent call last)",
      "Cell \u001b[1;32mIn[33], line 3\u001b[0m\n\u001b[0;32m      1\u001b[0m \u001b[38;5;28;01mfrom\u001b[39;00m\u001b[38;5;250m \u001b[39m\u001b[38;5;21;01mdataclasses\u001b[39;00m\u001b[38;5;250m \u001b[39m\u001b[38;5;28;01mimport\u001b[39;00m InitVar\n\u001b[0;32m      2\u001b[0m \u001b[38;5;129m@dataclass\u001b[39m\n\u001b[1;32m----> 3\u001b[0m \u001b[38;5;28;01mclass\u001b[39;00m\u001b[38;5;250m \u001b[39m\u001b[38;5;21;01mC\u001b[39;00m:\n\u001b[0;32m      4\u001b[0m     i: \u001b[38;5;28mint\u001b[39m\n\u001b[0;32m      5\u001b[0m     j: \u001b[38;5;28mint\u001b[39m \u001b[38;5;241m=\u001b[39m \u001b[38;5;28;01mNone\u001b[39;00m\n",
      "Cell \u001b[1;32mIn[33], line 6\u001b[0m, in \u001b[0;36mC\u001b[1;34m()\u001b[0m\n\u001b[0;32m      4\u001b[0m i: \u001b[38;5;28mint\u001b[39m\n\u001b[0;32m      5\u001b[0m j: \u001b[38;5;28mint\u001b[39m \u001b[38;5;241m=\u001b[39m \u001b[38;5;28;01mNone\u001b[39;00m\n\u001b[1;32m----> 6\u001b[0m database: InitVar[DatabaseType] \u001b[38;5;241m=\u001b[39m \u001b[38;5;28;01mNone\u001b[39;00m\n\u001b[0;32m      8\u001b[0m \u001b[38;5;28;01mdef\u001b[39;00m\u001b[38;5;250m \u001b[39m\u001b[38;5;21m__post__init__\u001b[39m(\u001b[38;5;28mself\u001b[39m,database):\n\u001b[0;32m      9\u001b[0m     \u001b[38;5;28;01mif\u001b[39;00m \u001b[38;5;28mself\u001b[39m\u001b[38;5;241m.\u001b[39mj \u001b[38;5;129;01mis\u001b[39;00m \u001b[38;5;28;01mNone\u001b[39;00m \u001b[38;5;129;01mand\u001b[39;00m database \u001b[38;5;129;01mis\u001b[39;00m \u001b[38;5;129;01mnot\u001b[39;00m \u001b[38;5;28;01mNone\u001b[39;00m:\n",
      "\u001b[1;31mNameError\u001b[0m: name 'DatabaseType' is not defined"
     ]
    }
   ],
   "source": [
    "from dataclasses import InitVar\n",
    "@dataclass\n",
    "class C:\n",
    "    i: int\n",
    "    j: int = None\n",
    "    database: InitVar[DatabaseType] = None\n",
    "\n",
    "    def __post__init__(self,database):\n",
    "        if self.j is None and database is not None:\n",
    "            self.j = database.lookup('j')#InitVar 参数的生命周期在 __post_init__ 方法结束时终止，它们不会被保存到实例中。\n",
    "\n"
   ]
  },
  {
   "cell_type": "code",
   "execution_count": 39,
   "id": "f85e5e1a",
   "metadata": {},
   "outputs": [],
   "source": [
    "from dataclasses import dataclass, field,fields\n",
    "from typing import Optional\n",
    "from enum import Enum, auto\n",
    "from datetime import date\n",
    "\n",
    "class ResourceType(Enum):\n",
    "    BOOK = auto()\n",
    "    EBOOK = auto()\n",
    "    VIDEO = auto()\n",
    "    \n",
    "@dataclass\n",
    "class Resource:\n",
    "    '''描述媒体资源'''\n",
    "    identifier: str\n",
    "    title: str = '<untitled>'\n",
    "    creators: list[str] = field(default_factory=list)\n",
    "    date: Optional[date] = None\n",
    "    type: ResourceType = ResourceType.BOOK\n",
    "    description: str =''\n",
    "    language: str =''\n",
    "    subjects: list[str] = field(default_factory=list)\n",
    "\n",
    "    def __repr__(self):\n",
    "        cls = self.__class__\n",
    "        cls_name = cls.__name__\n",
    "        indent = ' '*4\n",
    "        res = [f'{cls_name}(']\n",
    "        for f in fields(cls):\n",
    "            value = getattr(self,f.name)\n",
    "            res.append(f'{indent}{f.name}={value!r}')\n",
    "        res.append(')')\n",
    "        return \"\\n\".join(res)\n",
    "        "
   ]
  },
  {
   "cell_type": "code",
   "execution_count": 40,
   "id": "12d06c4a",
   "metadata": {},
   "outputs": [
    {
     "data": {
      "text/plain": [
       "Resource(\n",
       "    identifier='978-0-13-475759-9'\n",
       "    title='Refactoring, 2nd Edition'\n",
       "    creators=['Martin Fowler', 'Kent Beck']\n",
       "    date=datetime.date(2018, 11, 19)\n",
       "    type=<ResourceType.BOOK: 1>\n",
       "    description='Improving the design of existing code'\n",
       "    language='EN'\n",
       "    subjects=['computer programming', 'OOP']\n",
       ")"
      ]
     },
     "execution_count": 40,
     "metadata": {},
     "output_type": "execute_result"
    }
   ],
   "source": [
    "description = 'Improving the design of existing code'\n",
    "book = Resource('978-0-13-475759-9', 'Refactoring, 2nd Edition',\n",
    "                ['Martin Fowler', 'Kent Beck'], date(2018, 11, 19),\n",
    "                ResourceType.BOOK, description, 'EN',\n",
    "                ['computer programming', 'OOP'])\n",
    "\n",
    "book"
   ]
  },
  {
   "cell_type": "markdown",
   "id": "91c67569",
   "metadata": {},
   "source": [
    "类模式通过类型和属性(可选)匹配类实例。类模式的匹配对象可以是 任何类的实例,而不仅仅是数据类的实例\n",
    "\n",
    "类模式是 match...case 语句中的一种模式，用于检查一个对象是否属于某个类（或其子类），并且可选地将其属性与子模式进行匹配。它的语法看起来非常像调用类的构造函数。"
   ]
  },
  {
   "cell_type": "code",
   "execution_count": null,
   "id": "13758cb5",
   "metadata": {},
   "outputs": [],
   "source": [
    "match x:\n",
    "    case float():\n",
    "        do ...."
   ]
  },
  {
   "cell_type": "markdown",
   "id": "eeeac012",
   "metadata": {},
   "source": [
    "关键字类模式\n"
   ]
  },
  {
   "cell_type": "code",
   "execution_count": 44,
   "id": "40dc7622",
   "metadata": {},
   "outputs": [],
   "source": [
    "import typing\n",
    "\n",
    "class City(typing.NamedTuple): \n",
    "    continent: str \n",
    "    name: str \n",
    "    country: str \n",
    "    \n",
    "cities = [\n",
    "    City('Asia', 'Tokyo', 'JP'), \n",
    "    City('Asia', 'Delhi', 'IN'), \n",
    "    City('North America', 'Mexico City', 'MX'), \n",
    "    City('North America', 'New York', 'US'), \n",
    "    City('South America', 'São Paulo', 'BR'),]"
   ]
  },
  {
   "cell_type": "code",
   "execution_count": 45,
   "id": "77380487",
   "metadata": {},
   "outputs": [],
   "source": [
    "def match_asian_countries(): \n",
    "    results = [] \n",
    "    for city in cities: \n",
    "        match city: \n",
    "            case City(continent='Asia', country=cc): \n",
    "                results.append(cc)\n",
    "    return results"
   ]
  },
  {
   "cell_type": "markdown",
   "id": "f7ae982a",
   "metadata": {},
   "source": [
    "位置类模式\n",
    "\n",
    "City 或其他类若想使用位置模式,要有一个名为 `__match_args__ ` 的特殊类属性。本章讲到的类构建器会自动创建这个属性。对于 City  类,`__match_args__` 属性的值如下所示。\n",
    "```\n",
    ">>> City.__match_args__\n",
    "('continent', 'name', 'country')\n",
    "```"
   ]
  },
  {
   "cell_type": "code",
   "execution_count": null,
   "id": "24e4f714",
   "metadata": {},
   "outputs": [],
   "source": [
    "def match_asian_countries_pos(): \n",
    "    results = [] \n",
    "    for city in cities: \n",
    "        match city: \n",
    "            case City('Asia', _, country): \n",
    "                results.append(country)\n",
    "\n",
    "    return results"
   ]
  }
 ],
 "metadata": {
  "kernelspec": {
   "display_name": "base",
   "language": "python",
   "name": "python3"
  },
  "language_info": {
   "codemirror_mode": {
    "name": "ipython",
    "version": 3
   },
   "file_extension": ".py",
   "mimetype": "text/x-python",
   "name": "python",
   "nbconvert_exporter": "python",
   "pygments_lexer": "ipython3",
   "version": "3.13.5"
  }
 },
 "nbformat": 4,
 "nbformat_minor": 5
}
