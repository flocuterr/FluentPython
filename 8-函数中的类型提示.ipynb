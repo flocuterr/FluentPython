{
 "cells": [
  {
   "cell_type": "markdown",
   "id": "8b7651fa",
   "metadata": {},
   "source": [
    "这是最好的情况,不过有时使用 None 表示默认值则更好。如果可选的  参数是可变类型,那么 None 是唯一合理的默认值\n",
    "\n",
    "Optional[str] 表示 plural 的值可以是一个 str 或 None"
   ]
  },
  {
   "cell_type": "code",
   "execution_count": 3,
   "id": "001e91d5",
   "metadata": {},
   "outputs": [],
   "source": [
    "from typing import Optional\n",
    "def show_count(count: int, singular: str, plural: Optional[str]=None) -> str:\n",
    "    return f'a'"
   ]
  }
 ],
 "metadata": {
  "kernelspec": {
   "display_name": "base",
   "language": "python",
   "name": "python3"
  },
  "language_info": {
   "codemirror_mode": {
    "name": "ipython",
    "version": 3
   },
   "file_extension": ".py",
   "mimetype": "text/x-python",
   "name": "python",
   "nbconvert_exporter": "python",
   "pygments_lexer": "ipython3",
   "version": "3.13.5"
  }
 },
 "nbformat": 4,
 "nbformat_minor": 5
}
