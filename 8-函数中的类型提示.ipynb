{
 "cells": [
  {
   "cell_type": "markdown",
   "id": "8b7651fa",
   "metadata": {},
   "source": [
    "这是最好的情况,不过有时使用 None 表示默认值则更好。如果可选的  参数是可变类型,那么 None 是唯一合理的默认值\n",
    "\n",
    "Optional[str] 表示 plural 的值可以是一个 str 或 None"
   ]
  },
  {
   "cell_type": "code",
   "execution_count": 3,
   "id": "001e91d5",
   "metadata": {},
   "outputs": [],
   "source": [
    "from typing import Optional\n",
    "def show_count(count: int, singular: str, plural: Optional[str]=None) -> str:\n",
    "    return f'a'"
   ]
  },
  {
   "cell_type": "code",
   "execution_count": 1,
   "id": "83b54372",
   "metadata": {},
   "outputs": [],
   "source": [
    "from collections import abc\n",
    "\n",
    "def double(x: abc.Sequence):\n",
    "    return x * 2"
   ]
  },
  {
   "cell_type": "markdown",
   "id": "4085d5e0",
   "metadata": {},
   "source": [
    "鸭子类型：对象有类型，但是变量(包含参数)没有类型。一个对象的类型不是由它继承自哪个类或实现了哪个接口决定的，而是由它当前拥有的方法和属性决定的。\n",
    "\n",
    "与鸭子类型相反，名义类型系统关注的是名称。一个对象是否能被用作某个类型，取决于它是否显式地声明了它属于该类型"
   ]
  },
  {
   "cell_type": "code",
   "execution_count": 2,
   "id": "5754dab1",
   "metadata": {},
   "outputs": [],
   "source": [
    "class Bird:\n",
    "    pass\n",
    "\n",
    "class Duck(Bird):\n",
    "    def quack(self):\n",
    "        print('Quack')\n",
    "\n",
    "def alert(birdie):\n",
    "    birdie.quack()\n",
    "\n",
    "def alert_duck(birdie: Duck) -> None:\n",
    "    birdie.quack()\n",
    "\n",
    "def alert_bird(birdie: Bird) -> None:\n",
    "    birdie.quack()\n"
   ]
  },
  {
   "cell_type": "markdown",
   "id": "2afcf7bb",
   "metadata": {},
   "source": [
    "### Any类型\n",
    "越一般的，接口越狭窄，即支持的操作越少。object类实现的操作比abc.Sequence少，abc.Sequence实现的操作比abc.MutableSequence少，abc.MutableSequence实现的操作比list少。\n",
    "\n",
    "Any 是一种魔法类型,位于类型层次结构的顶部和底部。Any 既  是最一般的类型(使用 n: Any 注解的参数可接受任何类型的值),也  是最特定的类型(支持所有可能的操作)"
   ]
  },
  {
   "cell_type": "code",
   "execution_count": 10,
   "id": "1c5dc129",
   "metadata": {},
   "outputs": [],
   "source": [
    "from typing import Any\n",
    "def func(x: Any) -> Any:\n",
    "    return x * 2"
   ]
  },
  {
   "cell_type": "markdown",
   "id": "72e1048c",
   "metadata": {},
   "source": [
    "子类型与相容"
   ]
  },
  {
   "cell_type": "code",
   "execution_count": 11,
   "id": "27e2499d",
   "metadata": {},
   "outputs": [],
   "source": [
    "class T1:\n",
    "    pass\n",
    "class T2(T1):\n",
    "    pass\n",
    "def f1(p:T1) -> None:\n",
    "    pass\n",
    "o2 = T2()\n",
    "f1(o2)\n",
    "o1 = T1()\n",
    "def f2(p:T2) -> None:\n",
    "    pass\n",
    "f2(o1)"
   ]
  },
  {
   "cell_type": "markdown",
   "id": "4e33f421",
   "metadata": {},
   "source": [
    "作为子类,T2 继承了 T1 支  持的所有操作。因此,在任何预期 T1 实例的地方都可以使用 T2 实  例。然而,反过来就不一定成立了,T2 可能实现了其他方法,因此在预  期 T2 实例的地方不一定都能使用 T1 实例"
   ]
  },
  {
   "cell_type": "markdown",
   "id": "85512e8d",
   "metadata": {},
   "source": [
    "相容\n",
    "- 对 T1 及其子类型 T2,T2 与 T1 相容(里氏替换)\n",
    "- 任何类型都与 Any 相容:声明为 Any 类型的参数接受任何类型的对象。\n",
    "- Any 与任何类型都相容:始终可以把 Any 类型的对象传给预期其  他类型的参数"
   ]
  },
  {
   "cell_type": "markdown",
   "id": "c5249cc9",
   "metadata": {},
   "source": [
    "Option[str]结构是Union[str,None]"
   ]
  },
  {
   "cell_type": "code",
   "execution_count": 12,
   "id": "1e1365ab",
   "metadata": {},
   "outputs": [],
   "source": [
    "x: str | None = None"
   ]
  },
  {
   "cell_type": "markdown",
   "id": "8cc77575",
   "metadata": {},
   "source": [
    "返回多种类型的定义应尽量避免，避免给用户增加额外负担。简单的定义上无所谓"
   ]
  },
  {
   "cell_type": "code",
   "execution_count": null,
   "id": "8c9e7957",
   "metadata": {},
   "outputs": [],
   "source": [
    "def parse_token(token: str) -> str | float:\n",
    "    if len(token):\n",
    "        return f'{token}'\n",
    "    return 0"
   ]
  },
  {
   "cell_type": "markdown",
   "id": "d18be7ac",
   "metadata": {},
   "source": [
    "### 泛化容器\n"
   ]
  },
  {
   "cell_type": "code",
   "execution_count": 1,
   "id": "3928d447",
   "metadata": {},
   "outputs": [],
   "source": [
    "def tokenize(text: str) -> list[str]:\n",
    "    return text.upper().split()"
   ]
  },
  {
   "cell_type": "markdown",
   "id": "60acd4fb",
   "metadata": {},
   "source": [
    "### 元组类型\n",
    "- 用作记录的元组\n",
    "- 带有具名字段，用作记录的元组。如果想注解带有多个字段的元组,或者代码中多次用到的特定类型 的元组,强烈建议使用 typing.NamedTuple\n",
    "- 用作不可变序列的元组。如果想注解长度不定、用作不可变列表的元组,则只能指定一个类 型,后跟逗号和 ..."
   ]
  },
  {
   "cell_type": "code",
   "execution_count": 1,
   "id": "476df964",
   "metadata": {},
   "outputs": [],
   "source": [
    "from geolib import geohash as gh # type: ignore\n",
    "\n",
    "PRECISION = 9\n",
    "def geohash(lat_lon: tuple[float,float])-> str:\n",
    "    return gh.encode(*lat_lon,PRECISION)"
   ]
  },
  {
   "cell_type": "code",
   "execution_count": 2,
   "id": "dc455d52",
   "metadata": {},
   "outputs": [],
   "source": [
    "from typing import NamedTuple\n",
    "\n",
    "class Coordinate(NamedTuple):\n",
    "    lat: float\n",
    "    lon: float\n",
    "\n",
    "def geohash(lat_lon: Coordinate) -> str:\n",
    "    return gh.encode(*lat_lon,PRECISION)\n"
   ]
  },
  {
   "cell_type": "code",
   "execution_count": 3,
   "id": "991e76e8",
   "metadata": {},
   "outputs": [],
   "source": [
    "from collections.abc import Sequence\n",
    "\n",
    "def columnize(\n",
    "    sequence: Sequence[str], num_columns: int = 0\n",
    ")-> list[tuple[str, ...]]:\n",
    "    if num_columns == 0:\n",
    "        num_columns = round(len(sequence) ** 0.5)\n",
    "    num_rows ,reminder = divmod(len(sequence), num_columns)\n",
    "    num_rows += bool(reminder)\n",
    "    return [tuple(sequence[i::num_rows]) for i in range(num_rows)]"
   ]
  },
  {
   "cell_type": "markdown",
   "id": "58cfc398",
   "metadata": {},
   "source": [
    "### 泛化映射\n",
    "泛化映射类型使用 MappingType[KeyType, ValueType] 形式注  解。"
   ]
  },
  {
   "cell_type": "code",
   "execution_count": null,
   "id": "b04a586e",
   "metadata": {},
   "outputs": [],
   "source": [
    "import sys,re,unicodedata\n",
    "from collections.abc import Iterator\n",
    "\n",
    "RE_WORD = re.compile(r'\\w+')\n",
    "STOP_CODE = sys.maxunicode + 1\n",
    "\n",
    "def tokensize(text: str) -> Iterator[str]:\n",
    "    '''返回全大写单词构成的可迭代对象'''\n",
    "    for match in RE_WORD.finditer(text):\n",
    "        yield match.group().upper()\n",
    "\n",
    "def name_index(start: int = 32)"
   ]
  },
  {
   "cell_type": "markdown",
   "id": "6a1fb8d1",
   "metadata": {},
   "source": [
    "### 抽象基类\n",
    "发送时要保守，接收时要大方\n"
   ]
  },
  {
   "cell_type": "code",
   "execution_count": null,
   "id": "719a6c3d",
   "metadata": {},
   "outputs": [],
   "source": [
    "from collections.abc import Mapping\n",
    "\n",
    "def name2hex(name: str, color_map: Mapping[str, int]) -> str:\n",
    "    return f'a'\n",
    "def name2hex2(name: str, color_map: dict[str, int])->str:\n",
    "    return f'a'"
   ]
  }
 ],
 "metadata": {
  "kernelspec": {
   "display_name": "fluentP",
   "language": "python",
   "name": "python3"
  },
  "language_info": {
   "codemirror_mode": {
    "name": "ipython",
    "version": 3
   },
   "file_extension": ".py",
   "mimetype": "text/x-python",
   "name": "python",
   "nbconvert_exporter": "python",
   "pygments_lexer": "ipython3",
   "version": "3.13.7"
  }
 },
 "nbformat": 4,
 "nbformat_minor": 5
}
