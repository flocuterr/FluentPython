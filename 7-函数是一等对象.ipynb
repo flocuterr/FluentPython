{
 "cells": [
  {
   "cell_type": "markdown",
   "id": "dddbf693",
   "metadata": {},
   "source": [
    "### 函数就是对象"
   ]
  },
  {
   "cell_type": "code",
   "execution_count": 30,
   "id": "129cfcf3",
   "metadata": {},
   "outputs": [
    {
     "name": "stdout",
     "output_type": "stream",
     "text": [
      "1405006117752879898543142606244511569936384000000000\n",
      "返回n!\n",
      "<class 'function'>\n"
     ]
    }
   ],
   "source": [
    "def factorial(n):\n",
    "    '''返回n!'''\n",
    "    return 1 if n <2 else n* factorial(n-1)\n",
    "\n",
    "print(factorial(42))\n",
    "print(factorial.__doc__)\n",
    "print(type(factorial))"
   ]
  },
  {
   "cell_type": "code",
   "execution_count": 31,
   "id": "8eceb969",
   "metadata": {},
   "outputs": [
    {
     "name": "stdout",
     "output_type": "stream",
     "text": [
      "Help on function factorial in module __main__:\n",
      "\n",
      "factorial(n)\n",
      "    返回n!\n",
      "\n"
     ]
    }
   ],
   "source": [
    "help(factorial)"
   ]
  },
  {
   "cell_type": "markdown",
   "id": "bed07aec",
   "metadata": {},
   "source": [
    "函数对象的“一等”本性"
   ]
  },
  {
   "cell_type": "code",
   "execution_count": 32,
   "id": "f1521731",
   "metadata": {},
   "outputs": [
    {
     "name": "stdout",
     "output_type": "stream",
     "text": [
      "<function factorial at 0x0000027EF51842C0>\n",
      "120\n",
      "<map object at 0x0000027EF548BEE0>\n"
     ]
    },
    {
     "data": {
      "text/plain": [
       "[1, 1, 2, 6, 24, 120, 720, 5040, 40320, 362880, 3628800]"
      ]
     },
     "execution_count": 32,
     "metadata": {},
     "output_type": "execute_result"
    }
   ],
   "source": [
    "fact = factorial\n",
    "print(fact)\n",
    "print(fact(5))\n",
    "print(map(factorial,range(11)))\n",
    "list(map(factorial,range(11)))"
   ]
  },
  {
   "cell_type": "markdown",
   "id": "a31132b8",
   "metadata": {},
   "source": [
    "### 高阶函数\n",
    "接受函数为参数或者把函数作为结果返回的函数是高阶函数"
   ]
  },
  {
   "cell_type": "code",
   "execution_count": 33,
   "id": "5dcf0e19",
   "metadata": {},
   "outputs": [
    {
     "data": {
      "text/plain": [
       "['fig', 'apple', 'cherry', 'banana', 'raspberry', 'strawberry']"
      ]
     },
     "execution_count": 33,
     "metadata": {},
     "output_type": "execute_result"
    }
   ],
   "source": [
    "fruits = ['strawberry', 'fig', 'apple', 'cherry', 'raspberry', 'banana']\n",
    "sorted(fruits,key=len)# 任何单参数函数都能作为 key 参数的值"
   ]
  },
  {
   "cell_type": "code",
   "execution_count": 34,
   "id": "b629099c",
   "metadata": {},
   "outputs": [
    {
     "name": "stdout",
     "output_type": "stream",
     "text": [
      "gnitset\n"
     ]
    },
    {
     "data": {
      "text/plain": [
       "['banana', 'apple', 'fig', 'raspberry', 'strawberry', 'cherry']"
      ]
     },
     "execution_count": 34,
     "metadata": {},
     "output_type": "execute_result"
    }
   ],
   "source": [
    "def reverse(word):\n",
    "    return word[::-1]\n",
    "\n",
    "print(reverse('testing'))\n",
    "sorted(fruits,key=reverse)"
   ]
  },
  {
   "cell_type": "markdown",
   "id": "731640fa",
   "metadata": {},
   "source": [
    "map,filter,reduce替代品：列表推导式或生成器表达式兼具 map 和 filter 这两  个函数的功能,而且代码可读性更高"
   ]
  },
  {
   "cell_type": "code",
   "execution_count": 35,
   "id": "8e8c564e",
   "metadata": {},
   "outputs": [
    {
     "name": "stdout",
     "output_type": "stream",
     "text": [
      "[1, 1, 2, 6, 24, 120]\n",
      "[1, 1, 2, 6, 24, 120]\n",
      "[1, 6, 120]\n",
      "[1, 6, 120]\n"
     ]
    }
   ],
   "source": [
    "print(list(map(factorial,range(6))))\n",
    "print([factorial(i) for i in range(6)])\n",
    "print(list(map(factorial,filter(lambda n: n %2 ,range(6)))))\n",
    "print([factorial(n) for n in range(6) if n%2 !=0])\n"
   ]
  },
  {
   "cell_type": "markdown",
   "id": "cc1a8e0a",
   "metadata": {},
   "source": [
    "### 匿名函数\n",
    "lambda 关键字使用 Python 表达式创建匿名函数，在高阶函数的参数列表中最适合使用匿名函数。"
   ]
  },
  {
   "cell_type": "code",
   "execution_count": 36,
   "id": "b3ee77f5",
   "metadata": {},
   "outputs": [
    {
     "data": {
      "text/plain": [
       "['banana', 'apple', 'fig', 'raspberry', 'strawberry', 'cherry']"
      ]
     },
     "execution_count": 36,
     "metadata": {},
     "output_type": "execute_result"
    }
   ],
   "source": [
    "fruits = ['strawberry', 'fig', 'apple', 'cherry', 'raspberry', 'banana']\n",
    "sorted(fruits,key = lambda word: word[::-1])"
   ]
  },
  {
   "cell_type": "markdown",
   "id": "c2e1b624",
   "metadata": {},
   "source": [
    "### 9种可调用对象\n",
    "除了函数,调用运算符()还可以应用到其他对象上。如果想判断对  象能否调用,可以使用内置的 callable() 函数\n",
    "\n",
    "- 用户定义的函数\n",
    "- 内置函数\n",
    "- 内置方法\n",
    "- 方法\n",
    "- 类\n",
    "- 生成器函数\n",
    "- 原生协程函数：使用 async def 定义的函数或方法。调用原生协程函数返回一个  协程对象\n",
    "- 异步生成器函数：使用 async def 定义,而且主体中有 yield 关键字的函数或方  法。调用异步生成器函数返回一个异步生成器,供 async for 使用"
   ]
  },
  {
   "cell_type": "markdown",
   "id": "1d638fb2",
   "metadata": {},
   "source": [
    "### 用户定义的可调用类型\n",
    "不仅 Python 函数是真正的对象,而且任何 Python 对象都可以表现得 像函数。为此,只需实现实例方法 `__call__`"
   ]
  },
  {
   "cell_type": "code",
   "execution_count": 37,
   "id": "070070c5",
   "metadata": {},
   "outputs": [
    {
     "data": {
      "text/plain": [
       "1"
      ]
     },
     "execution_count": 37,
     "metadata": {},
     "output_type": "execute_result"
    }
   ],
   "source": [
    "import random\n",
    "\n",
    "class BingoCage:\n",
    "\n",
    "    def __init__(self,items) -> None:\n",
    "        self._item = list(items)\n",
    "        random.shuffle(self._item)\n",
    "\n",
    "    def pick(self):\n",
    "        try:\n",
    "            return self._item.pop()\n",
    "        except:\n",
    "            raise LookupError('pick from empty BingoCago')\n",
    "        \n",
    "    def __call__(self):\n",
    "        return self.pick()\n",
    "    \n",
    "bingo = BingoCage(range(3))\n",
    "bingo()"
   ]
  },
  {
   "cell_type": "code",
   "execution_count": 38,
   "id": "18772992",
   "metadata": {},
   "outputs": [
    {
     "data": {
      "text/plain": [
       "True"
      ]
     },
     "execution_count": 38,
     "metadata": {},
     "output_type": "execute_result"
    }
   ],
   "source": [
    "callable(bingo)"
   ]
  },
  {
   "cell_type": "markdown",
   "id": "dbee40d5",
   "metadata": {},
   "source": [
    "### 从位置参数到仅限关键字参数\n",
    "Python 函数最好的功能之一是提供了极为灵活的参数处理机制。与之密 切相关的是,调用函数时可以使用 * 和 ** 拆包可迭代对象,映射各个  参数"
   ]
  },
  {
   "cell_type": "code",
   "execution_count": null,
   "id": "b6c916e9",
   "metadata": {},
   "outputs": [],
   "source": [
    "def tag(name,*content,  c1ass = None,**attrs):\n",
    "    '''name, *content是位置参数，class，**attrs是关键字参数\n",
    "    函数定义中的 *content 是可变位置参数，不能通过关键字直接访问\n",
    "    '''\n",
    "\n",
    "    if c1ass is not None:\n",
    "        attrs['class'] = c1ass\n",
    "    attr_pairs = (f' {attr}=\"{value}\"' for attr, value in sorted(attrs.items()))\n",
    "    attr_str = ''.join(attr_pairs)\n",
    "    if content:\n",
    "        elements = (f'<{name}{attr_str}>{c}</{name}>' for c in content)\n",
    "        return '\\n'.join(elements)\n",
    "    else:\n",
    "        return f'<{name}{attr_str} />'"
   ]
  },
  {
   "cell_type": "code",
   "execution_count": 64,
   "id": "c9da64b0",
   "metadata": {},
   "outputs": [
    {
     "name": "stdout",
     "output_type": "stream",
     "text": [
      "<br />\n",
      "<p>hello</p>\n",
      "<p>hello</p>\n",
      "<p>world</p>\n",
      "<p id=\"33\">hello</p>\n",
      "<p class=\"sidebar\">hello</p>\n",
      "<p class=\"sidebar\">world</p>\n",
      "<img content=\"testing\" />\n"
     ]
    },
    {
     "data": {
      "text/plain": [
       "'<img class=\"framed\" src=\"sunset.jpg\" title=\"Sunset Boulevard\" />'"
      ]
     },
     "execution_count": 64,
     "metadata": {},
     "output_type": "execute_result"
    }
   ],
   "source": [
    "print(tag('br'))\n",
    "print(tag('p','hello'))\n",
    "print(tag('p','hello','world'))\n",
    "print(tag('p', 'hello', id=33))\n",
    "print(tag('p', 'hello', 'world', c1ass='sidebar'))\n",
    "print(tag(content='testing', name=\"img\"))\n",
    "my_tag = {'name': 'img', 'title': 'Sunset Boulevard', 'src': 'sunset.jpg', 'class': 'framed'}\n",
    "tag(**my_tag)"
   ]
  },
  {
   "cell_type": "markdown",
   "id": "5a58a191",
   "metadata": {},
   "source": [
    "仅限位置参数：如果想定义只接受位置参数的函数,则可以在参数列表中使用 /,/ 左边均是仅限位置参数。在 / 后面,可以指定其他参数"
   ]
  },
  {
   "cell_type": "code",
   "execution_count": 67,
   "id": "5bb14378",
   "metadata": {},
   "outputs": [
    {
     "name": "stdout",
     "output_type": "stream",
     "text": [
      "(0, 1)\n"
     ]
    },
    {
     "ename": "TypeError",
     "evalue": "divmod() takes no keyword arguments",
     "output_type": "error",
     "traceback": [
      "\u001b[1;31m---------------------------------------------------------------------------\u001b[0m",
      "\u001b[1;31mTypeError\u001b[0m                                 Traceback (most recent call last)",
      "Cell \u001b[1;32mIn[67], line 5\u001b[0m\n\u001b[0;32m      2\u001b[0m     \u001b[38;5;28;01mreturn\u001b[39;00m (a\u001b[38;5;241m/\u001b[39m\u001b[38;5;241m/\u001b[39mb, a\u001b[38;5;241m%\u001b[39mb)\n\u001b[0;32m      4\u001b[0m \u001b[38;5;28mprint\u001b[39m(\u001b[38;5;28mdivmod\u001b[39m(\u001b[38;5;241m1\u001b[39m,\u001b[38;5;241m2\u001b[39m))\n\u001b[1;32m----> 5\u001b[0m \u001b[38;5;28mprint\u001b[39m(\u001b[38;5;28mdivmod\u001b[39m(a\u001b[38;5;241m=\u001b[39m\u001b[38;5;241m1\u001b[39m,b\u001b[38;5;241m=\u001b[39m\u001b[38;5;241m2\u001b[39m))\n",
      "\u001b[1;31mTypeError\u001b[0m: divmod() takes no keyword arguments"
     ]
    }
   ],
   "source": [
    "def devmod(a,b,/):\n",
    "    return (a//b, a%b)\n",
    "\n",
    "print(divmod(1,2))\n",
    "print(divmod(a=1,b=2))"
   ]
  },
  {
   "cell_type": "markdown",
   "id": "a9374411",
   "metadata": {},
   "source": [
    "### 支持函数式编程的包"
   ]
  },
  {
   "cell_type": "code",
   "execution_count": 3,
   "id": "92959d95",
   "metadata": {},
   "outputs": [
    {
     "data": {
      "text/plain": [
       "720"
      ]
     },
     "execution_count": 3,
     "metadata": {},
     "output_type": "execute_result"
    }
   ],
   "source": [
    "from functools import reduce\n",
    "\n",
    "def factorial(n):\n",
    "    return reduce(lambda a,b: a*b, range(1,n+1))\n",
    "\n",
    "factorial(6)"
   ]
  },
  {
   "cell_type": "markdown",
   "id": "ab2f0367",
   "metadata": {},
   "source": [
    "operator 模块为多个算术运算符提供了对应的函数,无须再动手编写  像 lambda a, b: a*b 这样的匿名函数。"
   ]
  },
  {
   "cell_type": "code",
   "execution_count": 4,
   "id": "1b2918ee",
   "metadata": {},
   "outputs": [
    {
     "data": {
      "text/plain": [
       "720"
      ]
     },
     "execution_count": 4,
     "metadata": {},
     "output_type": "execute_result"
    }
   ],
   "source": [
    "from operator import mul\n",
    "\n",
    "def factorial(n):\n",
    "    return reduce(mul,range(1,n+1))\n",
    "\n",
    "factorial(6)"
   ]
  },
  {
   "cell_type": "markdown",
   "id": "a772b48c",
   "metadata": {},
   "source": [
    "operator 模块中还有一类函数,即工厂函数 itemgetter 和  attrgetter,能替代从序列中取出项或读取对象属性的 lambda 表达  式。\n",
    "\n",
    "如果传给 itemgetter 多个索引参数,那么 itemgetter 构建的函 数就会返回提取的值构成的元组,以方便根据多个键排序"
   ]
  },
  {
   "cell_type": "code",
   "execution_count": null,
   "id": "a806534d",
   "metadata": {},
   "outputs": [],
   "source": [
    "from operator import itemgetter\n",
    "metro_data = []\n",
    "for city in sorted(metro_data,key=itemgetter(1)):\n",
    "    print(' ')"
   ]
  },
  {
   "cell_type": "markdown",
   "id": "79932141",
   "metadata": {},
   "source": [
    "与 itemgetter 的作用类似,attrgetter 创建的函数会根据名称来 提取对象的属性。如果传给 attrgetter 多个属性名,那么它也会返  回由提取的值构成的元组。此外,如果参数名中包含 .(点号),那么  attrgetter 就会深入嵌套对象,检索属性"
   ]
  },
  {
   "cell_type": "code",
   "execution_count": null,
   "id": "71800310",
   "metadata": {},
   "outputs": [],
   "source": [
    "from collections import namedtuple\n",
    "LatLon = namedtuple('LatLon','lat lon')\n",
    "Metropolis = namedtuple('Metropolis', 'name cc pop coord')\n",
    "metro_areas= [Metropolis(name, cc, pop, LatLon(lat,lon)) for name, cc, pop, (lat, lon) in metro_data]\n",
    "\n",
    "from operator import attrgetter\n",
    "name_lat = attrgetter('name','coord.lat')"
   ]
  },
  {
   "cell_type": "markdown",
   "id": "d066ab4d",
   "metadata": {},
   "source": [
    "methodcaller 创建的函数会在对象上调用参数指定的方法"
   ]
  },
  {
   "cell_type": "code",
   "execution_count": null,
   "id": "954c62bc",
   "metadata": {},
   "outputs": [
    {
     "name": "stdout",
     "output_type": "stream",
     "text": [
      "THE TIME HAS COME\n"
     ]
    },
    {
     "data": {
      "text/plain": [
       "'The-time-has-come'"
      ]
     },
     "execution_count": 7,
     "metadata": {},
     "output_type": "execute_result"
    }
   ],
   "source": [
    "from operator import methodcaller\n",
    "s = 'The time has come'\n",
    "upcase = methodcaller('upper')\n",
    "print(upcase(s))\n",
    "hyphenate = methodcaller('replace',' ','-')\n",
    "hyphenate(s)\n"
   ]
  },
  {
   "cell_type": "markdown",
   "id": "8871b0c5",
   "metadata": {},
   "source": [
    "partial,它可以根据提供的可调用对象产生一个新可调用对象,  为原可调用对象的某些参数绑定预定的值。使用这个函数可以把接受一 个或多个参数的函数改造成需要更少参数的回调的 API"
   ]
  },
  {
   "cell_type": "code",
   "execution_count": 8,
   "id": "f1ffc40a",
   "metadata": {},
   "outputs": [
    {
     "data": {
      "text/plain": [
       "21"
      ]
     },
     "execution_count": 8,
     "metadata": {},
     "output_type": "execute_result"
    }
   ],
   "source": [
    "from operator import mul\n",
    "from functools import partial\n",
    "triple = partial(mul,3)\n",
    "triple(7)\n"
   ]
  },
  {
   "cell_type": "code",
   "execution_count": null,
   "id": "2af3270e",
   "metadata": {},
   "outputs": [],
   "source": [
    "import unicodedata\n",
    "unicodedata.normalize()"
   ]
  }
 ],
 "metadata": {
  "kernelspec": {
   "display_name": "base",
   "language": "python",
   "name": "python3"
  },
  "language_info": {
   "codemirror_mode": {
    "name": "ipython",
    "version": 3
   },
   "file_extension": ".py",
   "mimetype": "text/x-python",
   "name": "python",
   "nbconvert_exporter": "python",
   "pygments_lexer": "ipython3",
   "version": "3.13.5"
  }
 },
 "nbformat": 4,
 "nbformat_minor": 5
}
